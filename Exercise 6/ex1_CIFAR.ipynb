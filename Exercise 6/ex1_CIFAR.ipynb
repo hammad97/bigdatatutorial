{
 "cells": [
  {
   "cell_type": "markdown",
   "id": "4bd1bdc0",
   "metadata": {},
   "source": [
    "## Exercise 1 (CIFAR Dataset)"
   ]
  },
  {
   "cell_type": "markdown",
   "id": "4ce2682d",
   "metadata": {},
   "source": [
    "* In this notebook I am re-using the same code as done for MNIST dataset there are only some changes in LeNet function since our dataset is changed as CIFAR has RGB data so we need to update the conv. layers accordingly. Other than that I made changes to pooling method in forward function. I tried to run this configuration with different learn rate but got a better result with lr = 0.001. In case of other learn rates I was getting a straight line after some point.\n",
    "* Tensorboard report is not getting converted when pdf is generated, I have added the screenshots of some plots but I have also attached the log files folder which can be used to view the plots and images on a tensorboard running instance."
   ]
  },
  {
   "cell_type": "code",
   "execution_count": 1,
   "id": "86c873e5",
   "metadata": {},
   "outputs": [],
   "source": [
    "import numpy as np\n",
    "from PIL import Image\n",
    "from tqdm.auto import tqdm\n",
    "import matplotlib.pyplot as plt\n",
    "import torch as pt \n",
    "from torch.utils.data import Dataset, DataLoader , Subset, ConcatDataset, ChainDataset\n",
    "from torch.nn import functional as F\n",
    "from torch import nn\n",
    "from torchvision.datasets import MNIST, CIFAR10\n",
    "from torchvision.transforms import ToTensor\n",
    "from torch.utils.tensorboard import SummaryWriter"
   ]
  },
  {
   "cell_type": "code",
   "execution_count": 2,
   "id": "d8ce9497",
   "metadata": {},
   "outputs": [
    {
     "name": "stdout",
     "output_type": "stream",
     "text": [
      "Files already downloaded and verified\n",
      "Files already downloaded and verified\n"
     ]
    }
   ],
   "source": [
    "%load_ext tensorboard\n",
    "\n",
    "tr_data = CIFAR10(root = \".\", train = True, download = True, transform = ToTensor())\n",
    "ts_data = CIFAR10(root = \".\", train = False, download = True, transform = ToTensor())\n"
   ]
  },
  {
   "cell_type": "code",
   "execution_count": 3,
   "id": "e4b985d0",
   "metadata": {},
   "outputs": [],
   "source": [
    "class LeNet(nn.Module):\n",
    "    def __init__(self):\n",
    "        super(LeNet, self).__init__()\n",
    "        self.conv1 = nn.Conv2d(3, 6, (3, 3)) \n",
    "        self.conv2 = nn.Conv2d(6, 16, (7, 7), padding = 1)\n",
    "        self.fc1   = nn.Linear(16 * 5 * 5, 120)\n",
    "        self.fc2   = nn.Linear(120, 84)\n",
    "        self.fc3   = nn.Linear(84, 10)\n",
    "    \n",
    "    def forward(self, x):\n",
    "        x = F.max_pool2d(pt.sigmoid(self.conv1(x)), (2, 2))\n",
    "        x = F.max_pool2d(pt.sigmoid(self.conv2(x)), (2, 2))\n",
    "        x = x.view(-1, 16 * 5 * 5)\n",
    "        x = pt.sigmoid(self.fc1(x))\n",
    "        x = pt.sigmoid(self.fc2(x))\n",
    "        x = F.softmax(self.fc3(x),dim = 1)\n",
    "        return x"
   ]
  },
  {
   "cell_type": "code",
   "execution_count": 4,
   "id": "ba25f49a",
   "metadata": {},
   "outputs": [],
   "source": [
    "b_size = 128\n",
    "\n",
    "logs = 'runs/experiment_1_cifar'\n",
    "sum_output = SummaryWriter(logs)"
   ]
  },
  {
   "cell_type": "code",
   "execution_count": 5,
   "id": "e68cdabe",
   "metadata": {},
   "outputs": [],
   "source": [
    "def lenet_tr(dataLoad, lenet_model, loss_func, adam_opt):\n",
    "    dataSize = len(dataLoad.dataset)\n",
    "    avg_loss, accu = 0, 0\n",
    "    for batch, (X, y) in tqdm(enumerate(dataLoad), leave = False):\n",
    "        X, y = X.to('cpu'), y.to('cpu')\n",
    "        pred = lenet_model(X)\n",
    "        loss_val = loss_func(pred, y)\n",
    "        adam_opt.zero_grad()\n",
    "        loss_val.backward()\n",
    "        adam_opt.step()\n",
    "        accu = accu + (pred.argmax(1) == y).type(pt.float).sum().item()\n",
    "        avg_loss = avg_loss + loss_val.item()\n",
    "\n",
    "    accu = accu / dataSize  \n",
    "    avg_loss = avg_loss / (dataSize / len(X))\n",
    "    print(\"Training accuracy: \", str(100 * accu), \" Average loss: \", str(avg_loss))\n",
    "    return avg_loss, (100 * accu)\n",
    "\n",
    "\n",
    "def lenet_ts(dataLoad, lenet_model, loss_func):\n",
    "    dataSize = len(dataLoad.dataset)\n",
    "    ts_loss, accu = 0, 0\n",
    "\n",
    "    with pt.no_grad():\n",
    "        for X, y in tqdm(dataLoad, leave = False):\n",
    "            X, y = X.to('cpu'), y.to('cpu')\n",
    "            pred = lenet_model(X)\n",
    "            ts_loss = ts_loss + loss_func(pred, y).item()\n",
    "            accu = accu + (pred.argmax(1) == y).type(pt.float).sum().item()\n",
    "\n",
    "    ts_loss = ts_loss / (dataSize / len(X))\n",
    "    accu = accu / dataSize\n",
    "    print(\"Testing Accuracy: \", str(100 * accu), \" Average loss: \", (ts_loss))\n",
    "    return ts_loss, (100 * accu)"
   ]
  },
  {
   "cell_type": "code",
   "execution_count": 6,
   "id": "757a95a1",
   "metadata": {},
   "outputs": [
    {
     "data": {
      "application/vnd.jupyter.widget-view+json": {
       "model_id": "29fe339f86cb4620840fe8a7d31efb0e",
       "version_major": 2,
       "version_minor": 0
      },
      "text/plain": [
       "  0%|          | 0/20 [00:00<?, ?it/s]"
      ]
     },
     "metadata": {},
     "output_type": "display_data"
    },
    {
     "name": "stdout",
     "output_type": "stream",
     "text": [
      "Epoch:  1\n"
     ]
    },
    {
     "data": {
      "application/vnd.jupyter.widget-view+json": {
       "model_id": "",
       "version_major": 2,
       "version_minor": 0
      },
      "text/plain": [
       "0it [00:00, ?it/s]"
      ]
     },
     "metadata": {},
     "output_type": "display_data"
    },
    {
     "name": "stdout",
     "output_type": "stream",
     "text": [
      "Training accuracy:  15.098  Average loss:  1.4224973484039307\n"
     ]
    },
    {
     "data": {
      "application/vnd.jupyter.widget-view+json": {
       "model_id": "",
       "version_major": 2,
       "version_minor": 0
      },
      "text/plain": [
       "  0%|          | 0/79 [00:00<?, ?it/s]"
      ]
     },
     "metadata": {},
     "output_type": "display_data"
    },
    {
     "name": "stdout",
     "output_type": "stream",
     "text": [
      "Testing Accuracy:  21.65  Average loss:  0.28217194023132325\n",
      "Epoch:  2\n"
     ]
    },
    {
     "data": {
      "application/vnd.jupyter.widget-view+json": {
       "model_id": "",
       "version_major": 2,
       "version_minor": 0
      },
      "text/plain": [
       "0it [00:00, ?it/s]"
      ]
     },
     "metadata": {},
     "output_type": "display_data"
    },
    {
     "name": "stdout",
     "output_type": "stream",
     "text": [
      "Training accuracy:  23.568  Average loss:  1.38398351020813\n"
     ]
    },
    {
     "data": {
      "application/vnd.jupyter.widget-view+json": {
       "model_id": "",
       "version_major": 2,
       "version_minor": 0
      },
      "text/plain": [
       "  0%|          | 0/79 [00:00<?, ?it/s]"
      ]
     },
     "metadata": {},
     "output_type": "display_data"
    },
    {
     "name": "stdout",
     "output_type": "stream",
     "text": [
      "Testing Accuracy:  25.759999999999998  Average loss:  0.2768554931640625\n",
      "Epoch:  3\n"
     ]
    },
    {
     "data": {
      "application/vnd.jupyter.widget-view+json": {
       "model_id": "",
       "version_major": 2,
       "version_minor": 0
      },
      "text/plain": [
       "0it [00:00, ?it/s]"
      ]
     },
     "metadata": {},
     "output_type": "display_data"
    },
    {
     "name": "stdout",
     "output_type": "stream",
     "text": [
      "Training accuracy:  25.812  Average loss:  1.3699067127227784\n"
     ]
    },
    {
     "data": {
      "application/vnd.jupyter.widget-view+json": {
       "model_id": "",
       "version_major": 2,
       "version_minor": 0
      },
      "text/plain": [
       "  0%|          | 0/79 [00:00<?, ?it/s]"
      ]
     },
     "metadata": {},
     "output_type": "display_data"
    },
    {
     "name": "stdout",
     "output_type": "stream",
     "text": [
      "Testing Accuracy:  27.48  Average loss:  0.2748514041900635\n",
      "Epoch:  4\n"
     ]
    },
    {
     "data": {
      "application/vnd.jupyter.widget-view+json": {
       "model_id": "",
       "version_major": 2,
       "version_minor": 0
      },
      "text/plain": [
       "0it [00:00, ?it/s]"
      ]
     },
     "metadata": {},
     "output_type": "display_data"
    },
    {
     "name": "stdout",
     "output_type": "stream",
     "text": [
      "Training accuracy:  27.008  Average loss:  1.362462924194336\n"
     ]
    },
    {
     "data": {
      "application/vnd.jupyter.widget-view+json": {
       "model_id": "",
       "version_major": 2,
       "version_minor": 0
      },
      "text/plain": [
       "  0%|          | 0/79 [00:00<?, ?it/s]"
      ]
     },
     "metadata": {},
     "output_type": "display_data"
    },
    {
     "name": "stdout",
     "output_type": "stream",
     "text": [
      "Testing Accuracy:  29.78  Average loss:  0.27238146858215334\n",
      "Epoch:  5\n"
     ]
    },
    {
     "data": {
      "application/vnd.jupyter.widget-view+json": {
       "model_id": "",
       "version_major": 2,
       "version_minor": 0
      },
      "text/plain": [
       "0it [00:00, ?it/s]"
      ]
     },
     "metadata": {},
     "output_type": "display_data"
    },
    {
     "name": "stdout",
     "output_type": "stream",
     "text": [
      "Training accuracy:  30.331999999999997  Average loss:  1.3460516773223876\n"
     ]
    },
    {
     "data": {
      "application/vnd.jupyter.widget-view+json": {
       "model_id": "",
       "version_major": 2,
       "version_minor": 0
      },
      "text/plain": [
       "  0%|          | 0/79 [00:00<?, ?it/s]"
      ]
     },
     "metadata": {},
     "output_type": "display_data"
    },
    {
     "name": "stdout",
     "output_type": "stream",
     "text": [
      "Testing Accuracy:  32.1  Average loss:  0.26976346092224124\n",
      "Epoch:  6\n"
     ]
    },
    {
     "data": {
      "application/vnd.jupyter.widget-view+json": {
       "model_id": "",
       "version_major": 2,
       "version_minor": 0
      },
      "text/plain": [
       "0it [00:00, ?it/s]"
      ]
     },
     "metadata": {},
     "output_type": "display_data"
    },
    {
     "name": "stdout",
     "output_type": "stream",
     "text": [
      "Training accuracy:  31.978  Average loss:  1.3351593936920165\n"
     ]
    },
    {
     "data": {
      "application/vnd.jupyter.widget-view+json": {
       "model_id": "",
       "version_major": 2,
       "version_minor": 0
      },
      "text/plain": [
       "  0%|          | 0/79 [00:00<?, ?it/s]"
      ]
     },
     "metadata": {},
     "output_type": "display_data"
    },
    {
     "name": "stdout",
     "output_type": "stream",
     "text": [
      "Testing Accuracy:  32.56  Average loss:  0.268868346786499\n",
      "Epoch:  7\n"
     ]
    },
    {
     "data": {
      "application/vnd.jupyter.widget-view+json": {
       "model_id": "",
       "version_major": 2,
       "version_minor": 0
      },
      "text/plain": [
       "0it [00:00, ?it/s]"
      ]
     },
     "metadata": {},
     "output_type": "display_data"
    },
    {
     "name": "stdout",
     "output_type": "stream",
     "text": [
      "Training accuracy:  33.302  Average loss:  1.3267779430389404\n"
     ]
    },
    {
     "data": {
      "application/vnd.jupyter.widget-view+json": {
       "model_id": "",
       "version_major": 2,
       "version_minor": 0
      },
      "text/plain": [
       "  0%|          | 0/79 [00:00<?, ?it/s]"
      ]
     },
     "metadata": {},
     "output_type": "display_data"
    },
    {
     "name": "stdout",
     "output_type": "stream",
     "text": [
      "Testing Accuracy:  34.27  Average loss:  0.26660615234375\n",
      "Epoch:  8\n"
     ]
    },
    {
     "data": {
      "application/vnd.jupyter.widget-view+json": {
       "model_id": "",
       "version_major": 2,
       "version_minor": 0
      },
      "text/plain": [
       "0it [00:00, ?it/s]"
      ]
     },
     "metadata": {},
     "output_type": "display_data"
    },
    {
     "name": "stdout",
     "output_type": "stream",
     "text": [
      "Training accuracy:  34.794000000000004  Average loss:  1.3186426940917968\n"
     ]
    },
    {
     "data": {
      "application/vnd.jupyter.widget-view+json": {
       "model_id": "",
       "version_major": 2,
       "version_minor": 0
      },
      "text/plain": [
       "  0%|          | 0/79 [00:00<?, ?it/s]"
      ]
     },
     "metadata": {},
     "output_type": "display_data"
    },
    {
     "name": "stdout",
     "output_type": "stream",
     "text": [
      "Testing Accuracy:  35.53  Average loss:  0.26512021141052244\n",
      "Epoch:  9\n"
     ]
    },
    {
     "data": {
      "application/vnd.jupyter.widget-view+json": {
       "model_id": "",
       "version_major": 2,
       "version_minor": 0
      },
      "text/plain": [
       "0it [00:00, ?it/s]"
      ]
     },
     "metadata": {},
     "output_type": "display_data"
    },
    {
     "name": "stdout",
     "output_type": "stream",
     "text": [
      "Training accuracy:  35.838  Average loss:  1.3122853813171387\n"
     ]
    },
    {
     "data": {
      "application/vnd.jupyter.widget-view+json": {
       "model_id": "",
       "version_major": 2,
       "version_minor": 0
      },
      "text/plain": [
       "  0%|          | 0/79 [00:00<?, ?it/s]"
      ]
     },
     "metadata": {},
     "output_type": "display_data"
    },
    {
     "name": "stdout",
     "output_type": "stream",
     "text": [
      "Testing Accuracy:  36.78  Average loss:  0.26363058624267577\n",
      "Epoch:  10\n"
     ]
    },
    {
     "data": {
      "application/vnd.jupyter.widget-view+json": {
       "model_id": "",
       "version_major": 2,
       "version_minor": 0
      },
      "text/plain": [
       "0it [00:00, ?it/s]"
      ]
     },
     "metadata": {},
     "output_type": "display_data"
    },
    {
     "name": "stdout",
     "output_type": "stream",
     "text": [
      "Training accuracy:  36.868  Average loss:  1.3064425359725953\n"
     ]
    },
    {
     "data": {
      "application/vnd.jupyter.widget-view+json": {
       "model_id": "",
       "version_major": 2,
       "version_minor": 0
      },
      "text/plain": [
       "  0%|          | 0/79 [00:00<?, ?it/s]"
      ]
     },
     "metadata": {},
     "output_type": "display_data"
    },
    {
     "name": "stdout",
     "output_type": "stream",
     "text": [
      "Testing Accuracy:  37.769999999999996  Average loss:  0.262660355758667\n",
      "Epoch:  11\n"
     ]
    },
    {
     "data": {
      "application/vnd.jupyter.widget-view+json": {
       "model_id": "",
       "version_major": 2,
       "version_minor": 0
      },
      "text/plain": [
       "0it [00:00, ?it/s]"
      ]
     },
     "metadata": {},
     "output_type": "display_data"
    },
    {
     "name": "stdout",
     "output_type": "stream",
     "text": [
      "Training accuracy:  37.812  Average loss:  1.3014704162597657\n"
     ]
    },
    {
     "data": {
      "application/vnd.jupyter.widget-view+json": {
       "model_id": "",
       "version_major": 2,
       "version_minor": 0
      },
      "text/plain": [
       "  0%|          | 0/79 [00:00<?, ?it/s]"
      ]
     },
     "metadata": {},
     "output_type": "display_data"
    },
    {
     "name": "stdout",
     "output_type": "stream",
     "text": [
      "Testing Accuracy:  38.51  Average loss:  0.2620819145202637\n",
      "Epoch:  12\n"
     ]
    },
    {
     "data": {
      "application/vnd.jupyter.widget-view+json": {
       "model_id": "",
       "version_major": 2,
       "version_minor": 0
      },
      "text/plain": [
       "0it [00:00, ?it/s]"
      ]
     },
     "metadata": {},
     "output_type": "display_data"
    },
    {
     "name": "stdout",
     "output_type": "stream",
     "text": [
      "Training accuracy:  38.51  Average loss:  1.2966731567382812\n"
     ]
    },
    {
     "data": {
      "application/vnd.jupyter.widget-view+json": {
       "model_id": "",
       "version_major": 2,
       "version_minor": 0
      },
      "text/plain": [
       "  0%|          | 0/79 [00:00<?, ?it/s]"
      ]
     },
     "metadata": {},
     "output_type": "display_data"
    },
    {
     "name": "stdout",
     "output_type": "stream",
     "text": [
      "Testing Accuracy:  39.54  Average loss:  0.2606497287750244\n",
      "Epoch:  13\n"
     ]
    },
    {
     "data": {
      "application/vnd.jupyter.widget-view+json": {
       "model_id": "",
       "version_major": 2,
       "version_minor": 0
      },
      "text/plain": [
       "0it [00:00, ?it/s]"
      ]
     },
     "metadata": {},
     "output_type": "display_data"
    },
    {
     "name": "stdout",
     "output_type": "stream",
     "text": [
      "Training accuracy:  39.426  Average loss:  1.2917185775756836\n"
     ]
    },
    {
     "data": {
      "application/vnd.jupyter.widget-view+json": {
       "model_id": "",
       "version_major": 2,
       "version_minor": 0
      },
      "text/plain": [
       "  0%|          | 0/79 [00:00<?, ?it/s]"
      ]
     },
     "metadata": {},
     "output_type": "display_data"
    },
    {
     "name": "stdout",
     "output_type": "stream",
     "text": [
      "Testing Accuracy:  39.7  Average loss:  0.2603018787384033\n",
      "Epoch:  14\n"
     ]
    },
    {
     "data": {
      "application/vnd.jupyter.widget-view+json": {
       "model_id": "",
       "version_major": 2,
       "version_minor": 0
      },
      "text/plain": [
       "0it [00:00, ?it/s]"
      ]
     },
     "metadata": {},
     "output_type": "display_data"
    },
    {
     "name": "stdout",
     "output_type": "stream",
     "text": [
      "Training accuracy:  40.03  Average loss:  1.2878731679916382\n"
     ]
    },
    {
     "data": {
      "application/vnd.jupyter.widget-view+json": {
       "model_id": "",
       "version_major": 2,
       "version_minor": 0
      },
      "text/plain": [
       "  0%|          | 0/79 [00:00<?, ?it/s]"
      ]
     },
     "metadata": {},
     "output_type": "display_data"
    },
    {
     "name": "stdout",
     "output_type": "stream",
     "text": [
      "Testing Accuracy:  40.8  Average loss:  0.2592284856796265\n",
      "Epoch:  15\n"
     ]
    },
    {
     "data": {
      "application/vnd.jupyter.widget-view+json": {
       "model_id": "",
       "version_major": 2,
       "version_minor": 0
      },
      "text/plain": [
       "0it [00:00, ?it/s]"
      ]
     },
     "metadata": {},
     "output_type": "display_data"
    },
    {
     "name": "stdout",
     "output_type": "stream",
     "text": [
      "Training accuracy:  40.744  Average loss:  1.283921113395691\n"
     ]
    },
    {
     "data": {
      "application/vnd.jupyter.widget-view+json": {
       "model_id": "",
       "version_major": 2,
       "version_minor": 0
      },
      "text/plain": [
       "  0%|          | 0/79 [00:00<?, ?it/s]"
      ]
     },
     "metadata": {},
     "output_type": "display_data"
    },
    {
     "name": "stdout",
     "output_type": "stream",
     "text": [
      "Testing Accuracy:  40.92  Average loss:  0.25917129020690916\n",
      "Epoch:  16\n"
     ]
    },
    {
     "data": {
      "application/vnd.jupyter.widget-view+json": {
       "model_id": "",
       "version_major": 2,
       "version_minor": 0
      },
      "text/plain": [
       "0it [00:00, ?it/s]"
      ]
     },
     "metadata": {},
     "output_type": "display_data"
    },
    {
     "name": "stdout",
     "output_type": "stream",
     "text": [
      "Training accuracy:  41.266000000000005  Average loss:  1.280458827972412\n"
     ]
    },
    {
     "data": {
      "application/vnd.jupyter.widget-view+json": {
       "model_id": "",
       "version_major": 2,
       "version_minor": 0
      },
      "text/plain": [
       "  0%|          | 0/79 [00:00<?, ?it/s]"
      ]
     },
     "metadata": {},
     "output_type": "display_data"
    },
    {
     "name": "stdout",
     "output_type": "stream",
     "text": [
      "Testing Accuracy:  41.75  Average loss:  0.2579772903442383\n",
      "Epoch:  17\n"
     ]
    },
    {
     "data": {
      "application/vnd.jupyter.widget-view+json": {
       "model_id": "",
       "version_major": 2,
       "version_minor": 0
      },
      "text/plain": [
       "0it [00:00, ?it/s]"
      ]
     },
     "metadata": {},
     "output_type": "display_data"
    },
    {
     "name": "stdout",
     "output_type": "stream",
     "text": [
      "Training accuracy:  41.592  Average loss:  1.2777490571975707\n"
     ]
    },
    {
     "data": {
      "application/vnd.jupyter.widget-view+json": {
       "model_id": "",
       "version_major": 2,
       "version_minor": 0
      },
      "text/plain": [
       "  0%|          | 0/79 [00:00<?, ?it/s]"
      ]
     },
     "metadata": {},
     "output_type": "display_data"
    },
    {
     "name": "stdout",
     "output_type": "stream",
     "text": [
      "Testing Accuracy:  42.230000000000004  Average loss:  0.25745185661315917\n",
      "Epoch:  18\n"
     ]
    },
    {
     "data": {
      "application/vnd.jupyter.widget-view+json": {
       "model_id": "",
       "version_major": 2,
       "version_minor": 0
      },
      "text/plain": [
       "0it [00:00, ?it/s]"
      ]
     },
     "metadata": {},
     "output_type": "display_data"
    },
    {
     "name": "stdout",
     "output_type": "stream",
     "text": [
      "Training accuracy:  42.246  Average loss:  1.274099994277954\n"
     ]
    },
    {
     "data": {
      "application/vnd.jupyter.widget-view+json": {
       "model_id": "",
       "version_major": 2,
       "version_minor": 0
      },
      "text/plain": [
       "  0%|          | 0/79 [00:00<?, ?it/s]"
      ]
     },
     "metadata": {},
     "output_type": "display_data"
    },
    {
     "name": "stdout",
     "output_type": "stream",
     "text": [
      "Testing Accuracy:  41.69  Average loss:  0.25785496139526365\n",
      "Epoch:  19\n"
     ]
    },
    {
     "data": {
      "application/vnd.jupyter.widget-view+json": {
       "model_id": "",
       "version_major": 2,
       "version_minor": 0
      },
      "text/plain": [
       "0it [00:00, ?it/s]"
      ]
     },
     "metadata": {},
     "output_type": "display_data"
    },
    {
     "name": "stdout",
     "output_type": "stream",
     "text": [
      "Training accuracy:  42.642  Average loss:  1.271180520248413\n"
     ]
    },
    {
     "data": {
      "application/vnd.jupyter.widget-view+json": {
       "model_id": "",
       "version_major": 2,
       "version_minor": 0
      },
      "text/plain": [
       "  0%|          | 0/79 [00:00<?, ?it/s]"
      ]
     },
     "metadata": {},
     "output_type": "display_data"
    },
    {
     "name": "stdout",
     "output_type": "stream",
     "text": [
      "Testing Accuracy:  43.47  Average loss:  0.2561337312698364\n",
      "Epoch:  20\n"
     ]
    },
    {
     "data": {
      "application/vnd.jupyter.widget-view+json": {
       "model_id": "",
       "version_major": 2,
       "version_minor": 0
      },
      "text/plain": [
       "0it [00:00, ?it/s]"
      ]
     },
     "metadata": {},
     "output_type": "display_data"
    },
    {
     "name": "stdout",
     "output_type": "stream",
     "text": [
      "Training accuracy:  43.309999999999995  Average loss:  1.267886409187317\n"
     ]
    },
    {
     "data": {
      "application/vnd.jupyter.widget-view+json": {
       "model_id": "",
       "version_major": 2,
       "version_minor": 0
      },
      "text/plain": [
       "  0%|          | 0/79 [00:00<?, ?it/s]"
      ]
     },
     "metadata": {},
     "output_type": "display_data"
    },
    {
     "name": "stdout",
     "output_type": "stream",
     "text": [
      "Testing Accuracy:  43.56  Average loss:  0.2558630283355713\n"
     ]
    }
   ],
   "source": [
    "lr = 1e-3\n",
    "tr_dl = DataLoader(tr_data, batch_size = b_size, shuffle = True)\n",
    "ts_dl = DataLoader(ts_data, batch_size = b_size, shuffle = False) # True -> False\n",
    "\n",
    "lenet_model = LeNet()\n",
    "lenet_model.to('cpu')\n",
    "loss_func = nn.CrossEntropyLoss()\n",
    "\n",
    "adam_opt = pt.optim.Adam(lenet_model.parameters(), lr = lr, betas = (0.9, 0.999), eps = 1e-08, weight_decay = 0, amsgrad = False)\n",
    "\n",
    "epochs = 20\n",
    "for i in tqdm(range(epochs)):\n",
    "    print(\"Epoch: \", (i+1))\n",
    "    tr_loss, tr_accu = lenet_tr(tr_dl, lenet_model, loss_func, adam_opt)\n",
    "    ts_loss, ts_accu = lenet_ts(ts_dl, lenet_model, loss_func)    \n",
    "    if sum_output is not None:\n",
    "        sum_output.add_scalars(f'Loss with lr = {lr}', {\"Train\" : tr_loss,\n",
    "                                     \"Test\" : ts_loss}, i)\n",
    "        sum_output.add_scalars(f'Accuracy with lr = {lr}', {\"Train\" : tr_accu,\n",
    "                                          \"Test\" : ts_accu}, i)\n"
   ]
  },
  {
   "cell_type": "code",
   "execution_count": 7,
   "id": "882bd19a",
   "metadata": {},
   "outputs": [
    {
     "name": "stderr",
     "output_type": "stream",
     "text": [
      "Clipping input data to the valid range for imshow with RGB data ([0..1] for floats or [0..255] for integers).\n",
      "Clipping input data to the valid range for imshow with RGB data ([0..1] for floats or [0..255] for integers).\n",
      "Clipping input data to the valid range for imshow with RGB data ([0..1] for floats or [0..255] for integers).\n",
      "Clipping input data to the valid range for imshow with RGB data ([0..1] for floats or [0..255] for integers).\n",
      "Clipping input data to the valid range for imshow with RGB data ([0..1] for floats or [0..255] for integers).\n",
      "Clipping input data to the valid range for imshow with RGB data ([0..1] for floats or [0..255] for integers).\n"
     ]
    }
   ],
   "source": [
    "a_sample = iter(tr_dl).next()[0][np.random.randint(b_size)]\n",
    "\n",
    "activList = dict()\n",
    "def get_activation(name):\n",
    "    def hook(lenet_model, input, output):\n",
    "        activList[name] = output.detach()\n",
    "    return hook\n",
    "\n",
    "\n",
    "lenet_model.conv1.register_forward_hook(get_activation('conv1'))\n",
    "lenet_model.conv2.register_forward_hook(get_activation('conv2'))\n",
    "lenet_model.cpu()\n",
    "\n",
    "sum_output.add_image(f'Original Image', a_sample)\n",
    "\n",
    "output = lenet_model(a_sample.unsqueeze(0))\n",
    "\n",
    "active_1st = activList['conv1'].squeeze()\n",
    "active_2nd = activList['conv2'].squeeze()\n",
    "\n",
    "filtrs = active_1st.size(0)\n",
    "fig, axes = plt.subplots(1, filtrs, figsize = (filtrs * 2, 2))\n",
    "for i in range(filtrs):\n",
    "    axes[i].imshow(active_1st[i].numpy())\n",
    "    axes[i].axis('off')\n",
    "\n",
    "sum_output.add_figure('1st Conv. layer', fig)\n",
    "plt.close()\n",
    "\n",
    "filtrs = active_2nd.size(0)\n",
    "fig, axes = plt.subplots(4, filtrs // 4, figsize = (filtrs // 2, 8))\n",
    "for i in range(filtrs):\n",
    "    x,y = i%4,i//4 \n",
    "    axes[x,y].imshow(active_2nd[i].numpy())\n",
    "    axes[x,y].axis('off')\n",
    "\n",
    "sum_output.add_figure('2nd Conv. layer', fig)\n",
    "plt.close()\n",
    "\n",
    "listKernel = lenet_model.conv1.weight.detach()\n",
    "filtrs = listKernel.size(0)\n",
    "fig, axes = plt.subplots(1, filtrs, figsize = (filtrs * 2, 2))\n",
    "for idx in range(filtrs):\n",
    "    axes[idx].imshow(listKernel[idx].squeeze())\n",
    "    axes[idx].axis('off')\n",
    "\n",
    "sum_output.add_figure('1st Conv. feature-map', fig)\n",
    "plt.close()\n",
    "\n",
    "listKernel = lenet_model.conv2.weight.detach()\n",
    "fig, axes = plt.subplots(listKernel.size(1), listKernel.size(0), figsize = (listKernel.size(0), listKernel.size(1)))\n",
    "for i in range(listKernel.size(0)):\n",
    "    for j in range(listKernel.size(1)):\n",
    "        axes[j, i].imshow(listKernel[i,j].squeeze())\n",
    "        axes[j, i].axis('off')\n",
    "\n",
    "sum_output.add_figure('2nd Conv. feature-map', fig)\n",
    "plt.close()\n",
    "sum_output.close()\n"
   ]
  },
  {
   "cell_type": "code",
   "execution_count": 9,
   "id": "7440d59f",
   "metadata": {},
   "outputs": [
    {
     "data": {
      "text/html": [
       "\n",
       "      <iframe id=\"tensorboard-frame-566968f3e2419879\" width=\"100%\" height=\"800\" frameborder=\"0\">\n",
       "      </iframe>\n",
       "      <script>\n",
       "        (function() {\n",
       "          const frame = document.getElementById(\"tensorboard-frame-566968f3e2419879\");\n",
       "          const url = new URL(\"/\", window.location);\n",
       "          const port = 8094;\n",
       "          if (port) {\n",
       "            url.port = port;\n",
       "          }\n",
       "          frame.src = url;\n",
       "        })();\n",
       "      </script>\n",
       "    "
      ],
      "text/plain": [
       "<IPython.core.display.HTML object>"
      ]
     },
     "metadata": {},
     "output_type": "display_data"
    }
   ],
   "source": [
    "%tensorboard --logdir runs/experiment_1_cifar --host localhost --port 8094"
   ]
  },
  {
   "cell_type": "code",
   "execution_count": null,
   "id": "7081e4d0",
   "metadata": {},
   "outputs": [],
   "source": []
  },
  {
   "cell_type": "code",
   "execution_count": null,
   "id": "2943d6e7",
   "metadata": {},
   "outputs": [],
   "source": []
  },
  {
   "cell_type": "code",
   "execution_count": null,
   "id": "8d6f8242",
   "metadata": {},
   "outputs": [],
   "source": []
  },
  {
   "cell_type": "code",
   "execution_count": null,
   "id": "1a840031",
   "metadata": {},
   "outputs": [],
   "source": []
  }
 ],
 "metadata": {
  "kernelspec": {
   "display_name": "Python 3",
   "language": "python",
   "name": "python3"
  },
  "language_info": {
   "codemirror_mode": {
    "name": "ipython",
    "version": 3
   },
   "file_extension": ".py",
   "mimetype": "text/x-python",
   "name": "python",
   "nbconvert_exporter": "python",
   "pygments_lexer": "ipython3",
   "version": "3.8.8"
  }
 },
 "nbformat": 4,
 "nbformat_minor": 5
}
