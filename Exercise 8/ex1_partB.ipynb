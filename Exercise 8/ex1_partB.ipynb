{
 "cells": [
  {
   "cell_type": "markdown",
   "id": "e4e4c877",
   "metadata": {},
   "source": [
    "## Exercise 1_b\n",
    "* 312441"
   ]
  },
  {
   "cell_type": "code",
   "execution_count": 1,
   "id": "8e208254",
   "metadata": {},
   "outputs": [
    {
     "data": {
      "text/plain": [
       "'C:\\\\Spark\\\\spark-3.3.0-bin-hadoop3'"
      ]
     },
     "execution_count": 1,
     "metadata": {},
     "output_type": "execute_result"
    }
   ],
   "source": [
    "# This is required to run everytime because sometimes, \n",
    "# without running it it fails to establish connection back to python.\n",
    "import findspark\n",
    "import matplotlib.pyplot as plt\n",
    "findspark.init()\n",
    "findspark.find()"
   ]
  },
  {
   "cell_type": "code",
   "execution_count": 2,
   "id": "7b046b0b",
   "metadata": {},
   "outputs": [],
   "source": [
    "# Required libraries\n",
    "from pyspark.sql import SparkSession\n",
    "from pyspark.sql.types import ArrayType, StructField, StructType, StringType, IntegerType, DecimalType\n",
    "from decimal import Decimal\n",
    "import pyspark\n",
    "from pyspark import SparkContext, SparkConf\n",
    "import numpy as np\n",
    "import pandas as pd\n",
    "from pyspark.sql.functions import mean , stddev, col, to_date, date_format\n",
    "import pyspark.sql.functions as F\n",
    "from time import strptime\n",
    "import datetime\n",
    "from ast import literal_eval\n",
    "from pyspark.sql import SparkSession"
   ]
  },
  {
   "cell_type": "code",
   "execution_count": 3,
   "id": "37439bf0",
   "metadata": {},
   "outputs": [
    {
     "name": "stdout",
     "output_type": "stream",
     "text": [
      "+------------------+------------------+----------+---------+------+----+\n",
      "|course            |dob               |first_name|last_name|points|s_id|\n",
      "+------------------+------------------+----------+---------+------+----+\n",
      "|Humanities and Art|October 14, 1983  |Alan      |Joe      |10    |1   |\n",
      "|Computer Science  |September 26, 1980|Martin    |Genberg  |17    |2   |\n",
      "|Graphic Design    |June 12, 1982     |Athur     |Watson   |16    |3   |\n",
      "|Graphic Design    |April 5, 1987     |Anabelle  |Sanberg  |12    |4   |\n",
      "|Psychology        |November 1, 1978  |Kira      |Schommer |11    |5   |\n",
      "|Business          |17 February 1981  |Christian |Kiriam   |10    |6   |\n",
      "|Machine Learning  |1 January 1984    |Barbara   |Ballard  |14    |7   |\n",
      "|Deep Learning     |January 13, 1978  |John      |null     |10    |8   |\n",
      "|Machine Learning  |26 December 1989  |Marcus    |Carson   |15    |9   |\n",
      "|Physics           |30 December 1987  |Marta     |Brooks   |11    |10  |\n",
      "|Data Analytics    |June 12, 1975     |Holly     |Schwartz |12    |11  |\n",
      "|Computer Science  |July 2, 1985      |April     |Black    |null  |12  |\n",
      "|Computer Science  |July 22, 1980     |Irene     |Bradley  |13    |13  |\n",
      "|Psychology        |7 February 1986   |Mark      |Weber    |12    |14  |\n",
      "|Informatics       |May 18, 1987      |Rosie     |Norman   |9     |15  |\n",
      "|Business          |August 10, 1984   |Martin    |Steele   |7     |16  |\n",
      "|Machine Learning  |16 December 1990  |Colin     |Martinez |9     |17  |\n",
      "|Data Analytics    |null              |Bridget   |Twain    |6     |18  |\n",
      "|Business          |7 March 1980      |Darlene   |Mills    |19    |19  |\n",
      "|Data Analytics    |June 2, 1985      |Zachary   |null     |10    |20  |\n",
      "+------------------+------------------+----------+---------+------+----+\n",
      "\n"
     ]
    }
   ],
   "source": [
    "# Initial settings to start the Spark and get its context.\n",
    "conf = pyspark.SparkConf().setAppName('ex8_1').setMaster('local')\n",
    "sc = pyspark.SparkContext(conf = conf)\n",
    "spark = SparkSession(sc)\n",
    "\n",
    "students_data= sc.textFile('students.json').collect()\n",
    "df = spark.read.json(sc.parallelize(students_data))\n",
    "df.show(truncate=False)"
   ]
  },
  {
   "cell_type": "code",
   "execution_count": 4,
   "id": "7a2026a1",
   "metadata": {},
   "outputs": [
    {
     "name": "stdout",
     "output_type": "stream",
     "text": [
      "+------------------+------------------+----------+---------+------+----+\n",
      "|course            |dob               |first_name|last_name|points|s_id|\n",
      "+------------------+------------------+----------+---------+------+----+\n",
      "|Humanities and Art|October 14, 1983  |Alan      |Joe      |10    |1   |\n",
      "|Computer Science  |September 26, 1980|Martin    |Genberg  |17    |2   |\n",
      "|Graphic Design    |June 12, 1982     |Athur     |Watson   |16    |3   |\n",
      "|Graphic Design    |April 5, 1987     |Anabelle  |Sanberg  |12    |4   |\n",
      "|Psychology        |November 1, 1978  |Kira      |Schommer |11    |5   |\n",
      "|Business          |17 February 1981  |Christian |Kiriam   |10    |6   |\n",
      "|Machine Learning  |1 January 1984    |Barbara   |Ballard  |14    |7   |\n",
      "|Deep Learning     |January 13, 1978  |John      |null     |10    |8   |\n",
      "|Machine Learning  |26 December 1989  |Marcus    |Carson   |15    |9   |\n",
      "|Physics           |30 December 1987  |Marta     |Brooks   |11    |10  |\n",
      "|Data Analytics    |June 12, 1975     |Holly     |Schwartz |12    |11  |\n",
      "|Computer Science  |July 2, 1985      |April     |Black    |11    |12  |\n",
      "|Computer Science  |July 22, 1980     |Irene     |Bradley  |13    |13  |\n",
      "|Psychology        |7 February 1986   |Mark      |Weber    |12    |14  |\n",
      "|Informatics       |May 18, 1987      |Rosie     |Norman   |9     |15  |\n",
      "|Business          |August 10, 1984   |Martin    |Steele   |7     |16  |\n",
      "|Machine Learning  |16 December 1990  |Colin     |Martinez |9     |17  |\n",
      "|Data Analytics    |null              |Bridget   |Twain    |6     |18  |\n",
      "|Business          |7 March 1980      |Darlene   |Mills    |19    |19  |\n",
      "|Data Analytics    |June 2, 1985      |Zachary   |null     |10    |20  |\n",
      "+------------------+------------------+----------+---------+------+----+\n",
      "\n"
     ]
    }
   ],
   "source": [
    "from pyspark.sql.functions import mean as _mean, stddev as _stddev, col\n",
    "# 1.\n",
    "# Here we are just selecting all the points value and then replacing it with mean val via following code \n",
    "df_stats = df.select(_mean(col('points')).alias('mean')).collect()\n",
    "mean = df_stats[0]['mean']\n",
    "df=df.na.fill(value=mean,subset=[\"points\"])\n",
    "df.show(truncate=False)"
   ]
  },
  {
   "cell_type": "code",
   "execution_count": 5,
   "id": "fb5f718a",
   "metadata": {},
   "outputs": [
    {
     "name": "stdout",
     "output_type": "stream",
     "text": [
      "+------------------+------------------+----------+---------+------+----+\n",
      "|course            |dob               |first_name|last_name|points|s_id|\n",
      "+------------------+------------------+----------+---------+------+----+\n",
      "|Humanities and Art|October 14, 1983  |Alan      |Joe      |10    |1   |\n",
      "|Computer Science  |September 26, 1980|Martin    |Genberg  |17    |2   |\n",
      "|Graphic Design    |June 12, 1982     |Athur     |Watson   |16    |3   |\n",
      "|Graphic Design    |April 5, 1987     |Anabelle  |Sanberg  |12    |4   |\n",
      "|Psychology        |November 1, 1978  |Kira      |Schommer |11    |5   |\n",
      "|Business          |17 February 1981  |Christian |Kiriam   |10    |6   |\n",
      "|Machine Learning  |1 January 1984    |Barbara   |Ballard  |14    |7   |\n",
      "|Deep Learning     |January 13, 1978  |John      |-        |10    |8   |\n",
      "|Machine Learning  |26 December 1989  |Marcus    |Carson   |15    |9   |\n",
      "|Physics           |30 December 1987  |Marta     |Brooks   |11    |10  |\n",
      "|Data Analytics    |June 12, 1975     |Holly     |Schwartz |12    |11  |\n",
      "|Computer Science  |July 2, 1985      |April     |Black    |11    |12  |\n",
      "|Computer Science  |July 22, 1980     |Irene     |Bradley  |13    |13  |\n",
      "|Psychology        |7 February 1986   |Mark      |Weber    |12    |14  |\n",
      "|Informatics       |May 18, 1987      |Rosie     |Norman   |9     |15  |\n",
      "|Business          |August 10, 1984   |Martin    |Steele   |7     |16  |\n",
      "|Machine Learning  |16 December 1990  |Colin     |Martinez |9     |17  |\n",
      "|Data Analytics    |unknown           |Bridget   |Twain    |6     |18  |\n",
      "|Business          |7 March 1980      |Darlene   |Mills    |19    |19  |\n",
      "|Data Analytics    |June 2, 1985      |Zachary   |-        |10    |20  |\n",
      "+------------------+------------------+----------+---------+------+----+\n",
      "\n"
     ]
    }
   ],
   "source": [
    "# 2.\n",
    "# Simple code which is updating the data by replacing null dob and lastname with \"unknown\" and - respectively.\n",
    "df=df.na.fill(value='unknown',subset=[\"dob\"])\n",
    "df=df.na.fill(value='-',subset=[\"last_name\"])\n",
    "df.show(truncate=False)"
   ]
  },
  {
   "cell_type": "code",
   "execution_count": 40,
   "id": "2e5b174f",
   "metadata": {},
   "outputs": [
    {
     "name": "stdout",
     "output_type": "stream",
     "text": [
      "+------------------+----------+---------+------+----+----------+\n",
      "|            course|first_name|last_name|points|s_id|       dob|\n",
      "+------------------+----------+---------+------+----+----------+\n",
      "|Humanities and Art|      Alan|      Joe|    10|   1|14-10-1983|\n",
      "|  Computer Science|    Martin|  Genberg|    17|   2|26-09-1980|\n",
      "|    Graphic Design|     Athur|   Watson|    16|   3|12-06-1982|\n",
      "|    Graphic Design|  Anabelle|  Sanberg|    12|   4|05-04-1987|\n",
      "|        Psychology|      Kira| Schommer|    11|   5|01-11-1978|\n",
      "|          Business| Christian|   Kiriam|    10|   6|17-02-1981|\n",
      "|  Machine Learning|   Barbara|  Ballard|    14|   7|01-01-1984|\n",
      "|     Deep Learning|      John|        -|    10|   8|13-01-1978|\n",
      "|  Machine Learning|    Marcus|   Carson|    15|   9|26-12-1989|\n",
      "|           Physics|     Marta|   Brooks|    11|  10|30-12-1987|\n",
      "|    Data Analytics|     Holly| Schwartz|    12|  11|12-06-1975|\n",
      "|  Computer Science|     April|    Black|    11|  12|02-07-1985|\n",
      "|  Computer Science|     Irene|  Bradley|    13|  13|22-07-1980|\n",
      "|        Psychology|      Mark|    Weber|    12|  14|07-02-1986|\n",
      "|       Informatics|     Rosie|   Norman|     9|  15|18-05-1987|\n",
      "|          Business|    Martin|   Steele|     7|  16|10-08-1984|\n",
      "|  Machine Learning|     Colin| Martinez|     9|  17|16-12-1990|\n",
      "|    Data Analytics|   Bridget|    Twain|     6|  18|   unknown|\n",
      "|          Business|   Darlene|    Mills|    19|  19|07-03-1980|\n",
      "|    Data Analytics|   Zachary|        -|    10|  20|02-06-1985|\n",
      "+------------------+----------+---------+------+----+----------+\n",
      "\n"
     ]
    }
   ],
   "source": [
    "# 3. \n",
    "# Here i define a function which format our date in the required format we do this with help of regex + dictionary\n",
    "# and update the dobs by invoking this function with date column \n",
    "from datetime import datetime\n",
    "from pyspark.sql.functions import col,udf,unix_timestamp\n",
    "from pyspark.sql.types import DateType\n",
    "import re\n",
    "\n",
    "def dat_e(s):\n",
    "    s=re.sub('[^A-Za-z0-9/ ]+','', s)\n",
    "    s=s.split()\n",
    "    s=[int(element) if element.isdigit() else element for element in s]\n",
    "    month = {'January':'01','February':'02','March':'03','April':'04','May':'05','June':'06','July':'07','August':'08','September':'09',\n",
    "             'October':'10','November':'11','December':'12'}\n",
    "    if s[0]==\"unknown\":\n",
    "        return(s[0])\n",
    "    else:\n",
    "\n",
    "        if type(s[0])==str:\n",
    "            MM=month[s[0]]\n",
    "        else:\n",
    "            if type(s[0])==int and s[0]<31:\n",
    "                DD=s[0]\n",
    "            else:\n",
    "                YYYY=s[0]\n",
    "        if type(s[1])==str:\n",
    "            MM=month[s[1]]\n",
    "        else:\n",
    "            if type(s[1])==int and s[1]<31:\n",
    "                DD=s[1]\n",
    "            else:\n",
    "                YYYY=s[1]\n",
    "        if type(s[2])==str:\n",
    "            MM=month[s[2]]\n",
    "        else:\n",
    "            if type(s[2])==int and s[2]<31:\n",
    "                DD=s[0]\n",
    "            else:\n",
    "                YYYY=s[2]\n",
    "        if DD<10:\n",
    "            DD=str(0)+str(DD)\n",
    "        return str(str(DD)+\"-\"+str(MM)+\"-\"+str(YYYY))        \n",
    "\n",
    "func =  udf(lambda x: dat_e(x))\n",
    "\n",
    "df2 = df.withColumn('date', func(col('dob')))\n",
    "df2 = df2.drop('dob')\n",
    "df2 = df2.drop('new_date')\n",
    "df2 = df2.withColumnRenamed('date', 'dob')\n",
    "df2.show(truncate=True)"
   ]
  },
  {
   "cell_type": "code",
   "execution_count": 42,
   "id": "769d797a",
   "metadata": {},
   "outputs": [
    {
     "name": "stdout",
     "output_type": "stream",
     "text": [
      "+----------+------------------+----------+---------+------+----+----+\n",
      "|       dob|            course|first_name|last_name|points|s_id| age|\n",
      "+----------+------------------+----------+---------+------+----+----+\n",
      "|01-01-1984|  Machine Learning|   Barbara|  Ballard|    14|   7|  38|\n",
      "|01-11-1978|        Psychology|      Kira| Schommer|    11|   5|  43|\n",
      "|02-06-1985|    Data Analytics|   Zachary|        -|    10|  20|  37|\n",
      "|02-07-1985|  Computer Science|     April|    Black|    11|  12|  37|\n",
      "|05-04-1987|    Graphic Design|  Anabelle|  Sanberg|    12|   4|  35|\n",
      "|07-02-1986|        Psychology|      Mark|    Weber|    12|  14|  36|\n",
      "|07-03-1980|          Business|   Darlene|    Mills|    19|  19|  42|\n",
      "|10-08-1984|          Business|    Martin|   Steele|     7|  16|  37|\n",
      "|12-06-1975|    Data Analytics|     Holly| Schwartz|    12|  11|  47|\n",
      "|12-06-1982|    Graphic Design|     Athur|   Watson|    16|   3|  40|\n",
      "|13-01-1978|     Deep Learning|      John|        -|    10|   8|  44|\n",
      "|14-10-1983|Humanities and Art|      Alan|      Joe|    10|   1|  38|\n",
      "|16-12-1990|  Machine Learning|     Colin| Martinez|     9|  17|  31|\n",
      "|17-02-1981|          Business| Christian|   Kiriam|    10|   6|  41|\n",
      "|18-05-1987|       Informatics|     Rosie|   Norman|     9|  15|  35|\n",
      "|22-07-1980|  Computer Science|     Irene|  Bradley|    13|  13|  41|\n",
      "|26-09-1980|  Computer Science|    Martin|  Genberg|    17|   2|  41|\n",
      "|26-12-1989|  Machine Learning|    Marcus|   Carson|    15|   9|  32|\n",
      "|30-12-1987|           Physics|     Marta|   Brooks|    11|  10|  34|\n",
      "|   unknown|    Data Analytics|   Bridget|    Twain|     6|  18|null|\n",
      "+----------+------------------+----------+---------+------+----+----+\n",
      "\n"
     ]
    }
   ],
   "source": [
    "# 4. \n",
    "# Here we use the updated data from dob column to generate the age for each student and put them\n",
    "# in a new column 'age' using following code\n",
    "from pyspark.sql import functions as F\n",
    "from pyspark.sql.functions import current_date\n",
    "from pyspark.sql.functions import *\n",
    "df3=df2.select(col(\"dob\"),to_date(col(\"dob\"),\"dd-MM-yyyy\").alias(\"date_temp\"))\n",
    "df3= df3.withColumn('age', (F.months_between(current_date(), F.col('date_temp')) / 12).cast('int'))\n",
    "df3 = df3.drop('date_temp')\n",
    "d3=df3.na.fill(value='unknown',subset=[\"age\"])\n",
    "df2=df2.join(df3, on=[\"dob\"])\n",
    "df2.show()"
   ]
  },
  {
   "cell_type": "code",
   "execution_count": 45,
   "id": "0dd3d2aa",
   "metadata": {},
   "outputs": [
    {
     "name": "stdout",
     "output_type": "stream",
     "text": [
      "+----------+------------------+----------+---------+------+----+----+\n",
      "|dob       |course            |first_name|last_name|points|s_id|age |\n",
      "+----------+------------------+----------+---------+------+----+----+\n",
      "|01-01-1984|Machine Learning  |Barbara   |Ballard  |14    |7   |38  |\n",
      "|01-11-1978|Psychology        |Kira      |Schommer |11    |5   |43  |\n",
      "|02-06-1985|Data Analytics    |Zachary   |-        |10    |20  |37  |\n",
      "|02-07-1985|Computer Science  |April     |Black    |11    |12  |37  |\n",
      "|05-04-1987|Graphic Design    |Anabelle  |Sanberg  |12    |4   |35  |\n",
      "|07-02-1986|Psychology        |Mark      |Weber    |12    |14  |36  |\n",
      "|07-03-1980|Business          |Darlene   |Mills    |20    |19  |42  |\n",
      "|10-08-1984|Business          |Martin    |Steele   |7     |16  |37  |\n",
      "|12-06-1975|Data Analytics    |Holly     |Schwartz |12    |11  |47  |\n",
      "|12-06-1982|Graphic Design    |Athur     |Watson   |20    |3   |40  |\n",
      "|13-01-1978|Deep Learning     |John      |-        |10    |8   |44  |\n",
      "|14-10-1983|Humanities and Art|Alan      |Joe      |10    |1   |38  |\n",
      "|16-12-1990|Machine Learning  |Colin     |Martinez |9     |17  |31  |\n",
      "|17-02-1981|Business          |Christian |Kiriam   |10    |6   |41  |\n",
      "|18-05-1987|Informatics       |Rosie     |Norman   |9     |15  |35  |\n",
      "|22-07-1980|Computer Science  |Irene     |Bradley  |13    |13  |41  |\n",
      "|26-09-1980|Computer Science  |Martin    |Genberg  |20    |2   |41  |\n",
      "|26-12-1989|Machine Learning  |Marcus    |Carson   |20    |9   |32  |\n",
      "|30-12-1987|Physics           |Marta     |Brooks   |11    |10  |34  |\n",
      "|unknown   |Data Analytics    |Bridget   |Twain    |6     |18  |null|\n",
      "+----------+------------------+----------+---------+------+----+----+\n",
      "\n"
     ]
    }
   ],
   "source": [
    "# 5.\n",
    "# Here we are reward extra points to students according to given criteria in the question.\n",
    "# by conditioning on the standard deviation using following code\n",
    "from pyspark.sql.functions import when\n",
    "df_stats1 = df.select(_stddev(col('points')).alias('std'),_mean(col('points')).alias('mean')).collect()\n",
    "std = df_stats1[0]['std']\n",
    "mean = df_stats[0]['mean']\n",
    "std_dev1=std+mean\n",
    "df2 = df2.withColumn(\"points\", when(df2.points>std_dev1,20).otherwise(df2.points))\n",
    "df2.show(truncate=False)"
   ]
  },
  {
   "cell_type": "code",
   "execution_count": 46,
   "id": "7584199e",
   "metadata": {},
   "outputs": [
    {
     "data": {
      "image/png": "[encoded data removed]",
      "text/plain": [
       "<Figure size 432x288 with 1 Axes>"
      ]
     },
     "metadata": {
      "needs_background": "light"
     },
     "output_type": "display_data"
    }
   ],
   "source": [
    "# 6. \n",
    "# In this final part we just use the points column to plot our histogran like we did in intial exercises  \n",
    "import pandas as pd\n",
    "import matplotlib.pyplot as plt\n",
    "_histogram = df2.select('points').rdd.flatMap(lambda x: x).histogram(20)\n",
    "y = _histogram[1]\n",
    "x=_histogram[0]\n",
    "x=x[:-1]\n",
    "fig = plt.figure()\n",
    "plt.xticks(rotation='vertical')\n",
    "plt.bar(x,y, width=1.5)\n",
    "plt.xlabel('Number of Students')\n",
    "plt.ylabel('Marks')\n",
    "plt.show()"
   ]
  },
  {
   "cell_type": "code",
   "execution_count": null,
   "id": "94dcd9c6",
   "metadata": {},
   "outputs": [],
   "source": []
  }
 ],
 "metadata": {
  "kernelspec": {
   "display_name": "Python 3",
   "language": "python",
   "name": "python3"
  },
  "language_info": {
   "codemirror_mode": {
    "name": "ipython",
    "version": 3
   },
   "file_extension": ".py",
   "mimetype": "text/x-python",
   "name": "python",
   "nbconvert_exporter": "python",
   "pygments_lexer": "ipython3",
   "version": "3.8.8"
  }
 },
 "nbformat": 4,
 "nbformat_minor": 5
}
