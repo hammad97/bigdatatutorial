{
 "cells": [
  {
   "cell_type": "markdown",
   "id": "33bdd56c",
   "metadata": {},
   "source": [
    "## ID : 312441"
   ]
  },
  {
   "cell_type": "code",
   "execution_count": 75,
   "id": "04a9ad9a",
   "metadata": {},
   "outputs": [
    {
     "name": "stdout",
     "output_type": "stream",
     "text": [
      "The tensorboard extension is already loaded. To reload it, use:\n",
      "  %reload_ext tensorboard\n"
     ]
    }
   ],
   "source": [
    "import numpy as np\n",
    "from PIL import Image\n",
    "from tqdm.auto import tqdm\n",
    "import matplotlib.pyplot as plt\n",
    "import torch as pt \n",
    "from torch.utils.data import Dataset, DataLoader , Subset, ConcatDataset, ChainDataset\n",
    "from torch.nn import functional as F\n",
    "from torch import nn\n",
    "from torchvision.datasets import CIFAR10\n",
    "import torchvision.transforms as transforms\n",
    "from torch.utils.tensorboard import SummaryWriter\n",
    "%load_ext tensorboard"
   ]
  },
  {
   "cell_type": "code",
   "execution_count": 76,
   "id": "3bdc2677",
   "metadata": {},
   "outputs": [],
   "source": [
    "# This function is responsible for getting our data loaders. Here we accept two parameters which are \n",
    "# flags to whether implement Data augmention, normalization or not. After adding/skipping augmentation, normalization\n",
    "# we move towards next stop of loading our train and test dataset and return the output back to main function.\n",
    "def generateDataLoader(aug = None, normlze = None):\n",
    "    c_modules = []\n",
    "\n",
    "    if aug:\n",
    "        c_modules = c_modules + [transforms.RandomHorizontalFlip(), transforms.RandomResizedCrop(32, scale = (0.8, 1))]\n",
    "\n",
    "    c_modules = c_modules + [transforms.ToTensor()]\n",
    "    ts_c_modules = [transforms.ToTensor()]\n",
    "\n",
    "    if normlze:\n",
    "        c_modules = c_modules + [transforms.Normalize((0.5, 0.5, 0.5), (0.5, 0.5, 0.5))]\n",
    "        ts_c_modules = ts_c_modules + [transforms.Normalize((0.5, 0.5, 0.5), (0.5, 0.5, 0.5))]\n",
    "\n",
    "    tr_dataset = CIFAR10(root = \".\", train = True, download = True, transform = transforms.Compose(c_modules))\n",
    "    ts_dataset = CIFAR10(root = \".\", train = False, download = True, transform = transforms.Compose(ts_c_modules))\n",
    "\n",
    "    if (aug is None) & (normlze is None):\n",
    "        tr_dataset = pt.utils.data.Subset(tr_dataset, np.arange(len(tr_dataset)//2) * 2)\n",
    "\n",
    "    tr_dl = DataLoader(tr_dataset, batch_size = 1000, shuffle = True)\n",
    "    ts_dl = DataLoader(ts_dataset, batch_size = 1000, shuffle = False)\n",
    "\n",
    "    return tr_dl, ts_dl"
   ]
  },
  {
   "cell_type": "code",
   "execution_count": 77,
   "id": "0af8e876",
   "metadata": {},
   "outputs": [],
   "source": [
    "# This class is where we define our neural network following the architecture given in assignment.\n",
    "# for conv1 32x32x3 -> 30x30x8, for conv2 15x15x8 -> 13x13x16, for conv3 13x13x16 goes to 10x10x32.\n",
    "# added the fully connected layer with ReLU. Here also we have flags for adding batch_normalization,\n",
    "# dropout layer depending on the experiment we are running.\n",
    "class CustomNN(nn.Module):\n",
    "    def __init__(self, dout = None, b_norm = None):\n",
    "        super(CustomNN, self).__init__()\n",
    "        self.conv1 = nn.Conv2d(3, 8, (3,3))  \n",
    "        self.conv2 = nn.Conv2d(8, 16, (3,3)) \n",
    "        self.conv3 = nn.Conv2d(16, 32, (4,4))\n",
    "\n",
    "        self.fc1   = nn.Linear(32 * 5 * 5, 256)\n",
    "        self.fc2   = nn.Linear(256, 256)\n",
    "        self.fc3   = nn.Linear(256, 128)\n",
    "        self.fc4   = nn.Linear(128, 10)\n",
    "\n",
    "        self.dout = dout\n",
    "        self.b_norm = b_norm\n",
    "\n",
    "        if self.b_norm is not None:\n",
    "            self.batch_norm1 = nn.BatchNorm1d(num_features=256)\n",
    "            self.batch_norm2 = nn.BatchNorm1d(num_features=256)\n",
    "            self.batch_norm3 = nn.BatchNorm1d(num_features=128)\n",
    "\n",
    "    def forward(self, tx):\n",
    "        tx = F.max_pool2d(pt.relu(self.conv1(tx)), (2, 2))\n",
    "        tx = pt.relu(self.conv2(tx))\n",
    "        tx = F.max_pool2d(pt.relu(self.conv3(tx)), (2, 2))\n",
    "        tx = tx.view(-1, 32 * 5 * 5)\n",
    "        tx = pt.relu(self.fc1(tx))\n",
    "    \n",
    "        if self.b_norm is not None:\n",
    "            tx = self.batch_norm1(tx)  \n",
    "        if self.dout is not None:\n",
    "            tx = nn.Dropout(0.2)(tx)\n",
    "        tx = pt.relu(self.fc2(tx))\n",
    "        \n",
    "        if self.b_norm is not None:\n",
    "            tx = self.batch_norm2(tx)\n",
    "        if self.dout is not None:\n",
    "            tx = nn.Dropout(0.2)(tx)\n",
    "        tx = pt.relu(self.fc3(tx))\n",
    "\n",
    "        if self.b_norm is not None:\n",
    "            tx = self.batch_norm3(tx)\n",
    "        if self.dout is not None:\n",
    "            tx = nn.Dropout(0.2)(tx)\n",
    "        tx = F.softmax(self.fc4(tx),dim=1)\n",
    "\n",
    "        return tx"
   ]
  },
  {
   "cell_type": "code",
   "execution_count": 78,
   "id": "c7b52005",
   "metadata": {},
   "outputs": [],
   "source": [
    "# This is the function which is being triggered from main function, with parameters like summarywriter,\n",
    "# max_iterations and exp_num. From exp_num we are finding out exactly which exercise we are working on\n",
    "# a brief guide for exp_num is given with main code. So in this function we create our convolution network\n",
    "# with experiment requirment, get the dataloaders and call our training function.\n",
    "def execute_exp(exp_num, sum_output, max_iter = 30):\n",
    "    config = exp_setting[exp_num]\n",
    "\n",
    "    c_net = CustomNN(dout = config.get('dout', None), b_norm = config.get('b_norm', None))\n",
    "    c_net.to('cpu')\n",
    "\n",
    "    if config.get('regu', None) == 'l2':\n",
    "        l2 = 10e-5\n",
    "        l1 = None\n",
    "    elif config.get('regu', None) == 'l1':\n",
    "        l1 = 10e-7\n",
    "        l2 = 0\n",
    "    else:\n",
    "        l1 = None\n",
    "        l2 = 0\n",
    "\n",
    "    if config.get('lr', None) is not None:\n",
    "        l_r = config.get('lr', None)\n",
    "    else:\n",
    "        l_r = 0.001\n",
    "\n",
    "    all_optim = {'adam':pt.optim.Adam(c_net.parameters(), lr = l_r, weight_decay = l2),\n",
    "                        'sgd':pt.optim.SGD(c_net.parameters(), lr = l_r, weight_decay = l2, momentum = 0.9)}\n",
    "    \n",
    "    optim = config.get('optim', 'adam')\n",
    "    c_optim = all_optim[optim]\n",
    "\n",
    "    tr_dl, ts_dl = generateDataLoader(aug = config.get('aug', None), normlze = config.get('norml', None))\n",
    "    loss_func = nn.CrossEntropyLoss()\n",
    "    cnet_tr(tr_dl, ts_dl, c_net, loss_func, c_optim, config.get('exp_desc'), l1 = l1, max_iter = max_iter)"
   ]
  },
  {
   "cell_type": "code",
   "execution_count": 79,
   "id": "ea7d25ac",
   "metadata": {},
   "outputs": [],
   "source": [
    "# This is the function where training is happening invoked by execute_exp(). We are simply computing the \n",
    "# prediction and losses applying regulatization if required in experiment then backpropagating the losses\n",
    "# applying the optimizer meanwhile logging the data too for displaying at tensorboard later.\n",
    "# Ref: https://shonit2096.medium.com/cnn-on-cifar10-data-set-using-pytorch-34be87e09844#:~:text=The%20goal%20is%20to%20apply,Learning%20and%20Computer%20Vision%20algorithms.\n",
    "def cnet_tr(tr_dl, ts_dl, c_net, loss_func, c_optim, exp_desc, l1, max_iter = 30): \n",
    "    tr_size = len(tr_dl.dataset)\n",
    "    for iter in tqdm(range(max_iter), leave = True):\n",
    "        avg_loss, accu = 0, 0\n",
    "        for batch, (X, y) in tqdm(enumerate(tr_dl), leave = False):\n",
    "            c_optim.zero_grad()\n",
    "            X, y = X.to('cpu'), y.to('cpu')\n",
    "            pred = c_net(X)\n",
    "            loss_val = loss_func(pred, y)\n",
    "            if l1:\n",
    "                regL1 = pt.tensor(0., requires_grad = True)\n",
    "                for name, param in c_net.named_parameters():\n",
    "                    if 'weight' in name:\n",
    "                        regL1 = regL1 + pt.sum(pt.abs(param))\n",
    "\n",
    "                loss_val = loss_val + (l1 * regL1)\n",
    "\n",
    "            loss_val.backward()\n",
    "            c_optim.step()\n",
    "            tr_accu = (pred.argmax(1) == y).type(pt.float).sum().item()*100/X.size(0)\n",
    "            tr_loss = loss_val.item()\n",
    "            iter_chk = iter * len(tr_dl) + batch\n",
    "\n",
    "            if (iter_chk % 25 == 0) or (iter_chk == 0):\n",
    "                test_size = len(ts_dl.dataset)\n",
    "                test_loss, test_acc = 0, 0\n",
    "                with pt.no_grad():\n",
    "                    for X, y in tqdm(ts_dl, leave = False):\n",
    "                        X, y = X.to('cpu'), y.to('cpu')\n",
    "                        pred = c_net(X)\n",
    "                        test_loss = test_loss + loss_func(pred, y).item() * X.size(0)\n",
    "                        test_acc = test_acc + (pred.argmax(1) == y).type(pt.float).sum().item()\n",
    "\n",
    "                test_loss = test_loss / test_size\n",
    "                test_acc = test_acc / test_size\n",
    "                test_acc = test_acc * 100\n",
    "            else:\n",
    "                pass\n",
    "\n",
    "            sum_output.add_scalars(f'Loss_{exp_desc}', {\"Train\":tr_loss,\"Test\":test_loss}, iter_chk)\n",
    "            sum_output.add_scalars(f'Accuracy_{exp_desc}', {\"Train\":tr_accu,\"Test\":test_acc}, iter_chk)\n",
    "            \n",
    "            sum_output.add_scalars(f'Train_Accuracy', {f\"{exp_desc}\":tr_accu}, iter_chk)\n",
    "            sum_output.add_scalars(f'Test_Accuracy', {f\"{exp_desc}\":test_acc}, iter_chk)\n",
    "\n",
    "            sum_output.add_scalars(f'Train_loss', {f\"{exp_desc}\":tr_loss}, iter_chk)\n",
    "            sum_output.add_scalars(f'Test_loss', {f\"{exp_desc}\":test_loss}, iter_chk)\n",
    "\n",
    "            accu = accu + tr_accu * X.size(0)\n",
    "\n",
    "            avg_loss = avg_loss + tr_loss * X.size(0)"
   ]
  },
  {
   "cell_type": "code",
   "execution_count": 80,
   "id": "9d6c23f9",
   "metadata": {},
   "outputs": [
    {
     "name": "stdout",
     "output_type": "stream",
     "text": [
      "1 {'exp_desc': 'Baseline'}\n",
      "2 {'aug': True, 'exp_desc': 'Augmentation Applied'}\n",
      "3 {'norml': True, 'exp_desc': 'Normalization Applied'}\n",
      "4 {'aug': True, 'norml': True, 'exp_desc': 'Augmentation + Normalization Applied'}\n",
      "5 {'aug': True, 'norml': True, 'dropout': True, 'exp_desc': 'Dropout Applied'}\n",
      "6 {'aug': True, 'norml': True, 'regu': 'l1', 'exp_desc': 'L1 Regularization Applied'}\n",
      "7 {'aug': True, 'norml': True, 'regu': 'l2', 'exp_desc': 'L2 Regularization Applied'}\n",
      "8 {'aug': True, 'norml': True, 'dropout': True, 'regu': 'l2', 'exp_desc': 'Dropout + L2 Regularization Applied'}\n",
      "9 {'norml': True, 'optim': 'adam', 'lr': 0.0001, 'exp_desc': 'Adam Opt with LR 0.0001'}\n",
      "10 {'norml': True, 'optim': 'adam', 'lr': 0.001, 'exp_desc': 'Adam Opt with LR 0.001'}\n",
      "11 {'norml': True, 'optim': 'adam', 'lr': 0.01, 'exp_desc': 'Adam Opt with LR 0.01'}\n",
      "12 {'norml': True, 'optim': 'adam', 'lr': 0.1, 'exp_desc': 'Adam Opt with LR 0.1'}\n",
      "13 {'norml': True, 'optim': 'sgd', 'lr': 0.5, 'exp_desc': 'SGD with LR 0.5'}\n",
      "14 {'norml': True, 'optim': 'sgd', 'lr': 0.001, 'exp_desc': 'SGD with LR 0.001'}\n",
      "15 {'norml': True, 'optim': 'sgd', 'lr': 0.01, 'exp_desc': 'SGD with LR 0.01'}\n",
      "16 {'norml': True, 'optim': 'sgd', 'lr': 0.1, 'exp_desc': 'SGD with LR 0.1'}\n",
      "17 {'norml': True, 'dropout': True, 'batch_norm': True, 'exp_desc': 'Batch Normalization Applied'}\n"
     ]
    }
   ],
   "source": [
    "# I have made a dictionary with different setting as per requirement from each exercise to run\n",
    "# the experiments with specific setting using my generic functions.\n",
    "\n",
    "exp_setting = {1: {}, 2: {'aug': True}, 3: {'norml': True}, 4: {'aug': True, 'norml': True}, 5: {'aug': True, 'norml': True, 'dropout': True}, 6: {'aug': True, 'norml': True, 'regu': \"l1\"}, 7: {'aug': True, 'norml': True, 'regu': \"l2\"}, 8: {'aug': True, 'norml': True, 'dropout': True, 'regu': \"l2\"}, 9:  {'norml': True, 'optim': 'adam', 'lr': 0.0001}, 10: {'norml': True, 'optim': 'adam', 'lr': 0.001}, 11: {'norml': True, 'optim': 'adam', 'lr': 0.01}, 12: {'norml': True, 'optim': 'adam', 'lr': 0.1}, 13: {'norml': True, 'optim': 'sgd', 'lr': 0.5}, 14: {'norml': True, 'optim': 'sgd', 'lr': 0.001}, 15: {'norml': True, 'optim': 'sgd', 'lr': 0.01}, 16: {'norml': True, 'optim': 'sgd', 'lr': 0.1}, 17: {'norml': True,'dropout': True, 'batch_norm': True}}\n",
    "\n",
    "exp_desc = {1: 'Baseline',\n",
    "                2: 'Augmentation Applied',\n",
    "                3: 'Normalization Applied',\n",
    "                4: 'Augmentation + Normalization Applied',\n",
    "\n",
    "                5: 'Dropout Applied',\n",
    "                6: 'L1 Regularization Applied',\n",
    "                7: 'L2 Regularization Applied',\n",
    "                8: 'Dropout + L2 Regularization Applied',\n",
    "\n",
    "                9 :  'Adam Opt with LR 0.0001',\n",
    "                10 : 'Adam Opt with LR 0.001',\n",
    "                11 : 'Adam Opt with LR 0.01',\n",
    "                12 : 'Adam Opt with LR 0.1',\n",
    "                13 : 'SGD with LR 0.5',\n",
    "                14 : 'SGD with LR 0.001',\n",
    "                15 : 'SGD with LR 0.01',\n",
    "                16 : 'SGD with LR 0.1',\n",
    "                17 : 'Batch Normalization Applied',}\n",
    "\n",
    "for i in range(1, 18):\n",
    "    exp_setting[i].update({'exp_desc': exp_desc[i]})\n",
    "    print(i, exp_setting[i])\n"
   ]
  },
  {
   "cell_type": "code",
   "execution_count": 81,
   "id": "e5cfaf73",
   "metadata": {},
   "outputs": [
    {
     "name": "stdout",
     "output_type": "stream",
     "text": [
      "Executing experiment :  4\n",
      "Files already downloaded and verified\n",
      "Files already downloaded and verified\n"
     ]
    },
    {
     "data": {
      "application/vnd.jupyter.widget-view+json": {
       "model_id": "b6b1981af2984453bdd9f884c63cec7f",
       "version_major": 2,
       "version_minor": 0
      },
      "text/plain": [
       "  0%|          | 0/30 [00:00<?, ?it/s]"
      ]
     },
     "metadata": {},
     "output_type": "display_data"
    },
    {
     "data": {
      "application/vnd.jupyter.widget-view+json": {
       "model_id": "",
       "version_major": 2,
       "version_minor": 0
      },
      "text/plain": [
       "0it [00:00, ?it/s]"
      ]
     },
     "metadata": {},
     "output_type": "display_data"
    },
    {
     "data": {
      "application/vnd.jupyter.widget-view+json": {
       "model_id": "",
       "version_major": 2,
       "version_minor": 0
      },
      "text/plain": [
       "  0%|          | 0/10 [00:00<?, ?it/s]"
      ]
     },
     "metadata": {},
     "output_type": "display_data"
    },
    {
     "data": {
      "application/vnd.jupyter.widget-view+json": {
       "model_id": "",
       "version_major": 2,
       "version_minor": 0
      },
      "text/plain": [
       "  0%|          | 0/10 [00:00<?, ?it/s]"
      ]
     },
     "metadata": {},
     "output_type": "display_data"
    },
    {
     "data": {
      "application/vnd.jupyter.widget-view+json": {
       "model_id": "",
       "version_major": 2,
       "version_minor": 0
      },
      "text/plain": [
       "0it [00:00, ?it/s]"
      ]
     },
     "metadata": {},
     "output_type": "display_data"
    },
    {
     "data": {
      "application/vnd.jupyter.widget-view+json": {
       "model_id": "",
       "version_major": 2,
       "version_minor": 0
      },
      "text/plain": [
       "  0%|          | 0/10 [00:00<?, ?it/s]"
      ]
     },
     "metadata": {},
     "output_type": "display_data"
    },
    {
     "data": {
      "application/vnd.jupyter.widget-view+json": {
       "model_id": "",
       "version_major": 2,
       "version_minor": 0
      },
      "text/plain": [
       "  0%|          | 0/10 [00:00<?, ?it/s]"
      ]
     },
     "metadata": {},
     "output_type": "display_data"
    },
    {
     "data": {
      "application/vnd.jupyter.widget-view+json": {
       "model_id": "",
       "version_major": 2,
       "version_minor": 0
      },
      "text/plain": [
       "0it [00:00, ?it/s]"
      ]
     },
     "metadata": {},
     "output_type": "display_data"
    },
    {
     "data": {
      "application/vnd.jupyter.widget-view+json": {
       "model_id": "",
       "version_major": 2,
       "version_minor": 0
      },
      "text/plain": [
       "  0%|          | 0/10 [00:00<?, ?it/s]"
      ]
     },
     "metadata": {},
     "output_type": "display_data"
    },
    {
     "data": {
      "application/vnd.jupyter.widget-view+json": {
       "model_id": "",
       "version_major": 2,
       "version_minor": 0
      },
      "text/plain": [
       "  0%|          | 0/10 [00:00<?, ?it/s]"
      ]
     },
     "metadata": {},
     "output_type": "display_data"
    },
    {
     "data": {
      "application/vnd.jupyter.widget-view+json": {
       "model_id": "",
       "version_major": 2,
       "version_minor": 0
      },
      "text/plain": [
       "0it [00:00, ?it/s]"
      ]
     },
     "metadata": {},
     "output_type": "display_data"
    },
    {
     "data": {
      "application/vnd.jupyter.widget-view+json": {
       "model_id": "",
       "version_major": 2,
       "version_minor": 0
      },
      "text/plain": [
       "  0%|          | 0/10 [00:00<?, ?it/s]"
      ]
     },
     "metadata": {},
     "output_type": "display_data"
    },
    {
     "data": {
      "application/vnd.jupyter.widget-view+json": {
       "model_id": "",
       "version_major": 2,
       "version_minor": 0
      },
      "text/plain": [
       "  0%|          | 0/10 [00:00<?, ?it/s]"
      ]
     },
     "metadata": {},
     "output_type": "display_data"
    },
    {
     "data": {
      "application/vnd.jupyter.widget-view+json": {
       "model_id": "",
       "version_major": 2,
       "version_minor": 0
      },
      "text/plain": [
       "0it [00:00, ?it/s]"
      ]
     },
     "metadata": {},
     "output_type": "display_data"
    },
    {
     "data": {
      "application/vnd.jupyter.widget-view+json": {
       "model_id": "",
       "version_major": 2,
       "version_minor": 0
      },
      "text/plain": [
       "  0%|          | 0/10 [00:00<?, ?it/s]"
      ]
     },
     "metadata": {},
     "output_type": "display_data"
    },
    {
     "data": {
      "application/vnd.jupyter.widget-view+json": {
       "model_id": "",
       "version_major": 2,
       "version_minor": 0
      },
      "text/plain": [
       "  0%|          | 0/10 [00:00<?, ?it/s]"
      ]
     },
     "metadata": {},
     "output_type": "display_data"
    },
    {
     "data": {
      "application/vnd.jupyter.widget-view+json": {
       "model_id": "",
       "version_major": 2,
       "version_minor": 0
      },
      "text/plain": [
       "0it [00:00, ?it/s]"
      ]
     },
     "metadata": {},
     "output_type": "display_data"
    },
    {
     "data": {
      "application/vnd.jupyter.widget-view+json": {
       "model_id": "",
       "version_major": 2,
       "version_minor": 0
      },
      "text/plain": [
       "  0%|          | 0/10 [00:00<?, ?it/s]"
      ]
     },
     "metadata": {},
     "output_type": "display_data"
    },
    {
     "data": {
      "application/vnd.jupyter.widget-view+json": {
       "model_id": "",
       "version_major": 2,
       "version_minor": 0
      },
      "text/plain": [
       "  0%|          | 0/10 [00:00<?, ?it/s]"
      ]
     },
     "metadata": {},
     "output_type": "display_data"
    },
    {
     "data": {
      "application/vnd.jupyter.widget-view+json": {
       "model_id": "",
       "version_major": 2,
       "version_minor": 0
      },
      "text/plain": [
       "0it [00:00, ?it/s]"
      ]
     },
     "metadata": {},
     "output_type": "display_data"
    },
    {
     "data": {
      "application/vnd.jupyter.widget-view+json": {
       "model_id": "",
       "version_major": 2,
       "version_minor": 0
      },
      "text/plain": [
       "  0%|          | 0/10 [00:00<?, ?it/s]"
      ]
     },
     "metadata": {},
     "output_type": "display_data"
    },
    {
     "data": {
      "application/vnd.jupyter.widget-view+json": {
       "model_id": "",
       "version_major": 2,
       "version_minor": 0
      },
      "text/plain": [
       "  0%|          | 0/10 [00:00<?, ?it/s]"
      ]
     },
     "metadata": {},
     "output_type": "display_data"
    },
    {
     "data": {
      "application/vnd.jupyter.widget-view+json": {
       "model_id": "",
       "version_major": 2,
       "version_minor": 0
      },
      "text/plain": [
       "0it [00:00, ?it/s]"
      ]
     },
     "metadata": {},
     "output_type": "display_data"
    },
    {
     "data": {
      "application/vnd.jupyter.widget-view+json": {
       "model_id": "",
       "version_major": 2,
       "version_minor": 0
      },
      "text/plain": [
       "  0%|          | 0/10 [00:00<?, ?it/s]"
      ]
     },
     "metadata": {},
     "output_type": "display_data"
    },
    {
     "data": {
      "application/vnd.jupyter.widget-view+json": {
       "model_id": "",
       "version_major": 2,
       "version_minor": 0
      },
      "text/plain": [
       "  0%|          | 0/10 [00:00<?, ?it/s]"
      ]
     },
     "metadata": {},
     "output_type": "display_data"
    },
    {
     "data": {
      "application/vnd.jupyter.widget-view+json": {
       "model_id": "",
       "version_major": 2,
       "version_minor": 0
      },
      "text/plain": [
       "0it [00:00, ?it/s]"
      ]
     },
     "metadata": {},
     "output_type": "display_data"
    },
    {
     "data": {
      "application/vnd.jupyter.widget-view+json": {
       "model_id": "",
       "version_major": 2,
       "version_minor": 0
      },
      "text/plain": [
       "  0%|          | 0/10 [00:00<?, ?it/s]"
      ]
     },
     "metadata": {},
     "output_type": "display_data"
    },
    {
     "data": {
      "application/vnd.jupyter.widget-view+json": {
       "model_id": "",
       "version_major": 2,
       "version_minor": 0
      },
      "text/plain": [
       "  0%|          | 0/10 [00:00<?, ?it/s]"
      ]
     },
     "metadata": {},
     "output_type": "display_data"
    },
    {
     "data": {
      "application/vnd.jupyter.widget-view+json": {
       "model_id": "",
       "version_major": 2,
       "version_minor": 0
      },
      "text/plain": [
       "0it [00:00, ?it/s]"
      ]
     },
     "metadata": {},
     "output_type": "display_data"
    },
    {
     "data": {
      "application/vnd.jupyter.widget-view+json": {
       "model_id": "",
       "version_major": 2,
       "version_minor": 0
      },
      "text/plain": [
       "  0%|          | 0/10 [00:00<?, ?it/s]"
      ]
     },
     "metadata": {},
     "output_type": "display_data"
    },
    {
     "data": {
      "application/vnd.jupyter.widget-view+json": {
       "model_id": "",
       "version_major": 2,
       "version_minor": 0
      },
      "text/plain": [
       "  0%|          | 0/10 [00:00<?, ?it/s]"
      ]
     },
     "metadata": {},
     "output_type": "display_data"
    },
    {
     "data": {
      "application/vnd.jupyter.widget-view+json": {
       "model_id": "",
       "version_major": 2,
       "version_minor": 0
      },
      "text/plain": [
       "0it [00:00, ?it/s]"
      ]
     },
     "metadata": {},
     "output_type": "display_data"
    },
    {
     "data": {
      "application/vnd.jupyter.widget-view+json": {
       "model_id": "",
       "version_major": 2,
       "version_minor": 0
      },
      "text/plain": [
       "  0%|          | 0/10 [00:00<?, ?it/s]"
      ]
     },
     "metadata": {},
     "output_type": "display_data"
    },
    {
     "data": {
      "application/vnd.jupyter.widget-view+json": {
       "model_id": "",
       "version_major": 2,
       "version_minor": 0
      },
      "text/plain": [
       "  0%|          | 0/10 [00:00<?, ?it/s]"
      ]
     },
     "metadata": {},
     "output_type": "display_data"
    },
    {
     "data": {
      "application/vnd.jupyter.widget-view+json": {
       "model_id": "",
       "version_major": 2,
       "version_minor": 0
      },
      "text/plain": [
       "0it [00:00, ?it/s]"
      ]
     },
     "metadata": {},
     "output_type": "display_data"
    },
    {
     "data": {
      "application/vnd.jupyter.widget-view+json": {
       "model_id": "",
       "version_major": 2,
       "version_minor": 0
      },
      "text/plain": [
       "  0%|          | 0/10 [00:00<?, ?it/s]"
      ]
     },
     "metadata": {},
     "output_type": "display_data"
    },
    {
     "data": {
      "application/vnd.jupyter.widget-view+json": {
       "model_id": "",
       "version_major": 2,
       "version_minor": 0
      },
      "text/plain": [
       "  0%|          | 0/10 [00:00<?, ?it/s]"
      ]
     },
     "metadata": {},
     "output_type": "display_data"
    },
    {
     "data": {
      "application/vnd.jupyter.widget-view+json": {
       "model_id": "",
       "version_major": 2,
       "version_minor": 0
      },
      "text/plain": [
       "0it [00:00, ?it/s]"
      ]
     },
     "metadata": {},
     "output_type": "display_data"
    },
    {
     "data": {
      "application/vnd.jupyter.widget-view+json": {
       "model_id": "",
       "version_major": 2,
       "version_minor": 0
      },
      "text/plain": [
       "  0%|          | 0/10 [00:00<?, ?it/s]"
      ]
     },
     "metadata": {},
     "output_type": "display_data"
    },
    {
     "data": {
      "application/vnd.jupyter.widget-view+json": {
       "model_id": "",
       "version_major": 2,
       "version_minor": 0
      },
      "text/plain": [
       "  0%|          | 0/10 [00:00<?, ?it/s]"
      ]
     },
     "metadata": {},
     "output_type": "display_data"
    },
    {
     "data": {
      "application/vnd.jupyter.widget-view+json": {
       "model_id": "",
       "version_major": 2,
       "version_minor": 0
      },
      "text/plain": [
       "0it [00:00, ?it/s]"
      ]
     },
     "metadata": {},
     "output_type": "display_data"
    },
    {
     "data": {
      "application/vnd.jupyter.widget-view+json": {
       "model_id": "",
       "version_major": 2,
       "version_minor": 0
      },
      "text/plain": [
       "  0%|          | 0/10 [00:00<?, ?it/s]"
      ]
     },
     "metadata": {},
     "output_type": "display_data"
    },
    {
     "data": {
      "application/vnd.jupyter.widget-view+json": {
       "model_id": "",
       "version_major": 2,
       "version_minor": 0
      },
      "text/plain": [
       "  0%|          | 0/10 [00:00<?, ?it/s]"
      ]
     },
     "metadata": {},
     "output_type": "display_data"
    },
    {
     "data": {
      "application/vnd.jupyter.widget-view+json": {
       "model_id": "",
       "version_major": 2,
       "version_minor": 0
      },
      "text/plain": [
       "0it [00:00, ?it/s]"
      ]
     },
     "metadata": {},
     "output_type": "display_data"
    },
    {
     "data": {
      "application/vnd.jupyter.widget-view+json": {
       "model_id": "",
       "version_major": 2,
       "version_minor": 0
      },
      "text/plain": [
       "  0%|          | 0/10 [00:00<?, ?it/s]"
      ]
     },
     "metadata": {},
     "output_type": "display_data"
    },
    {
     "data": {
      "application/vnd.jupyter.widget-view+json": {
       "model_id": "",
       "version_major": 2,
       "version_minor": 0
      },
      "text/plain": [
       "  0%|          | 0/10 [00:00<?, ?it/s]"
      ]
     },
     "metadata": {},
     "output_type": "display_data"
    },
    {
     "data": {
      "application/vnd.jupyter.widget-view+json": {
       "model_id": "",
       "version_major": 2,
       "version_minor": 0
      },
      "text/plain": [
       "0it [00:00, ?it/s]"
      ]
     },
     "metadata": {},
     "output_type": "display_data"
    },
    {
     "data": {
      "application/vnd.jupyter.widget-view+json": {
       "model_id": "",
       "version_major": 2,
       "version_minor": 0
      },
      "text/plain": [
       "  0%|          | 0/10 [00:00<?, ?it/s]"
      ]
     },
     "metadata": {},
     "output_type": "display_data"
    },
    {
     "data": {
      "application/vnd.jupyter.widget-view+json": {
       "model_id": "",
       "version_major": 2,
       "version_minor": 0
      },
      "text/plain": [
       "  0%|          | 0/10 [00:00<?, ?it/s]"
      ]
     },
     "metadata": {},
     "output_type": "display_data"
    },
    {
     "data": {
      "application/vnd.jupyter.widget-view+json": {
       "model_id": "",
       "version_major": 2,
       "version_minor": 0
      },
      "text/plain": [
       "0it [00:00, ?it/s]"
      ]
     },
     "metadata": {},
     "output_type": "display_data"
    },
    {
     "data": {
      "application/vnd.jupyter.widget-view+json": {
       "model_id": "",
       "version_major": 2,
       "version_minor": 0
      },
      "text/plain": [
       "  0%|          | 0/10 [00:00<?, ?it/s]"
      ]
     },
     "metadata": {},
     "output_type": "display_data"
    },
    {
     "data": {
      "application/vnd.jupyter.widget-view+json": {
       "model_id": "",
       "version_major": 2,
       "version_minor": 0
      },
      "text/plain": [
       "  0%|          | 0/10 [00:00<?, ?it/s]"
      ]
     },
     "metadata": {},
     "output_type": "display_data"
    },
    {
     "data": {
      "application/vnd.jupyter.widget-view+json": {
       "model_id": "",
       "version_major": 2,
       "version_minor": 0
      },
      "text/plain": [
       "0it [00:00, ?it/s]"
      ]
     },
     "metadata": {},
     "output_type": "display_data"
    },
    {
     "data": {
      "application/vnd.jupyter.widget-view+json": {
       "model_id": "",
       "version_major": 2,
       "version_minor": 0
      },
      "text/plain": [
       "  0%|          | 0/10 [00:00<?, ?it/s]"
      ]
     },
     "metadata": {},
     "output_type": "display_data"
    },
    {
     "data": {
      "application/vnd.jupyter.widget-view+json": {
       "model_id": "",
       "version_major": 2,
       "version_minor": 0
      },
      "text/plain": [
       "  0%|          | 0/10 [00:00<?, ?it/s]"
      ]
     },
     "metadata": {},
     "output_type": "display_data"
    },
    {
     "data": {
      "application/vnd.jupyter.widget-view+json": {
       "model_id": "",
       "version_major": 2,
       "version_minor": 0
      },
      "text/plain": [
       "0it [00:00, ?it/s]"
      ]
     },
     "metadata": {},
     "output_type": "display_data"
    },
    {
     "data": {
      "application/vnd.jupyter.widget-view+json": {
       "model_id": "",
       "version_major": 2,
       "version_minor": 0
      },
      "text/plain": [
       "  0%|          | 0/10 [00:00<?, ?it/s]"
      ]
     },
     "metadata": {},
     "output_type": "display_data"
    },
    {
     "data": {
      "application/vnd.jupyter.widget-view+json": {
       "model_id": "",
       "version_major": 2,
       "version_minor": 0
      },
      "text/plain": [
       "  0%|          | 0/10 [00:00<?, ?it/s]"
      ]
     },
     "metadata": {},
     "output_type": "display_data"
    },
    {
     "data": {
      "application/vnd.jupyter.widget-view+json": {
       "model_id": "",
       "version_major": 2,
       "version_minor": 0
      },
      "text/plain": [
       "0it [00:00, ?it/s]"
      ]
     },
     "metadata": {},
     "output_type": "display_data"
    },
    {
     "data": {
      "application/vnd.jupyter.widget-view+json": {
       "model_id": "",
       "version_major": 2,
       "version_minor": 0
      },
      "text/plain": [
       "  0%|          | 0/10 [00:00<?, ?it/s]"
      ]
     },
     "metadata": {},
     "output_type": "display_data"
    },
    {
     "data": {
      "application/vnd.jupyter.widget-view+json": {
       "model_id": "",
       "version_major": 2,
       "version_minor": 0
      },
      "text/plain": [
       "  0%|          | 0/10 [00:00<?, ?it/s]"
      ]
     },
     "metadata": {},
     "output_type": "display_data"
    },
    {
     "data": {
      "application/vnd.jupyter.widget-view+json": {
       "model_id": "",
       "version_major": 2,
       "version_minor": 0
      },
      "text/plain": [
       "0it [00:00, ?it/s]"
      ]
     },
     "metadata": {},
     "output_type": "display_data"
    },
    {
     "data": {
      "application/vnd.jupyter.widget-view+json": {
       "model_id": "",
       "version_major": 2,
       "version_minor": 0
      },
      "text/plain": [
       "  0%|          | 0/10 [00:00<?, ?it/s]"
      ]
     },
     "metadata": {},
     "output_type": "display_data"
    },
    {
     "data": {
      "application/vnd.jupyter.widget-view+json": {
       "model_id": "",
       "version_major": 2,
       "version_minor": 0
      },
      "text/plain": [
       "  0%|          | 0/10 [00:00<?, ?it/s]"
      ]
     },
     "metadata": {},
     "output_type": "display_data"
    },
    {
     "data": {
      "application/vnd.jupyter.widget-view+json": {
       "model_id": "",
       "version_major": 2,
       "version_minor": 0
      },
      "text/plain": [
       "0it [00:00, ?it/s]"
      ]
     },
     "metadata": {},
     "output_type": "display_data"
    },
    {
     "data": {
      "application/vnd.jupyter.widget-view+json": {
       "model_id": "",
       "version_major": 2,
       "version_minor": 0
      },
      "text/plain": [
       "  0%|          | 0/10 [00:00<?, ?it/s]"
      ]
     },
     "metadata": {},
     "output_type": "display_data"
    },
    {
     "data": {
      "application/vnd.jupyter.widget-view+json": {
       "model_id": "",
       "version_major": 2,
       "version_minor": 0
      },
      "text/plain": [
       "  0%|          | 0/10 [00:00<?, ?it/s]"
      ]
     },
     "metadata": {},
     "output_type": "display_data"
    },
    {
     "data": {
      "application/vnd.jupyter.widget-view+json": {
       "model_id": "",
       "version_major": 2,
       "version_minor": 0
      },
      "text/plain": [
       "0it [00:00, ?it/s]"
      ]
     },
     "metadata": {},
     "output_type": "display_data"
    },
    {
     "data": {
      "application/vnd.jupyter.widget-view+json": {
       "model_id": "",
       "version_major": 2,
       "version_minor": 0
      },
      "text/plain": [
       "  0%|          | 0/10 [00:00<?, ?it/s]"
      ]
     },
     "metadata": {},
     "output_type": "display_data"
    },
    {
     "data": {
      "application/vnd.jupyter.widget-view+json": {
       "model_id": "",
       "version_major": 2,
       "version_minor": 0
      },
      "text/plain": [
       "  0%|          | 0/10 [00:00<?, ?it/s]"
      ]
     },
     "metadata": {},
     "output_type": "display_data"
    },
    {
     "data": {
      "application/vnd.jupyter.widget-view+json": {
       "model_id": "",
       "version_major": 2,
       "version_minor": 0
      },
      "text/plain": [
       "0it [00:00, ?it/s]"
      ]
     },
     "metadata": {},
     "output_type": "display_data"
    },
    {
     "data": {
      "application/vnd.jupyter.widget-view+json": {
       "model_id": "",
       "version_major": 2,
       "version_minor": 0
      },
      "text/plain": [
       "  0%|          | 0/10 [00:00<?, ?it/s]"
      ]
     },
     "metadata": {},
     "output_type": "display_data"
    },
    {
     "data": {
      "application/vnd.jupyter.widget-view+json": {
       "model_id": "",
       "version_major": 2,
       "version_minor": 0
      },
      "text/plain": [
       "  0%|          | 0/10 [00:00<?, ?it/s]"
      ]
     },
     "metadata": {},
     "output_type": "display_data"
    },
    {
     "data": {
      "application/vnd.jupyter.widget-view+json": {
       "model_id": "",
       "version_major": 2,
       "version_minor": 0
      },
      "text/plain": [
       "0it [00:00, ?it/s]"
      ]
     },
     "metadata": {},
     "output_type": "display_data"
    },
    {
     "data": {
      "application/vnd.jupyter.widget-view+json": {
       "model_id": "",
       "version_major": 2,
       "version_minor": 0
      },
      "text/plain": [
       "  0%|          | 0/10 [00:00<?, ?it/s]"
      ]
     },
     "metadata": {},
     "output_type": "display_data"
    },
    {
     "data": {
      "application/vnd.jupyter.widget-view+json": {
       "model_id": "",
       "version_major": 2,
       "version_minor": 0
      },
      "text/plain": [
       "  0%|          | 0/10 [00:00<?, ?it/s]"
      ]
     },
     "metadata": {},
     "output_type": "display_data"
    },
    {
     "data": {
      "application/vnd.jupyter.widget-view+json": {
       "model_id": "",
       "version_major": 2,
       "version_minor": 0
      },
      "text/plain": [
       "0it [00:00, ?it/s]"
      ]
     },
     "metadata": {},
     "output_type": "display_data"
    },
    {
     "data": {
      "application/vnd.jupyter.widget-view+json": {
       "model_id": "",
       "version_major": 2,
       "version_minor": 0
      },
      "text/plain": [
       "  0%|          | 0/10 [00:00<?, ?it/s]"
      ]
     },
     "metadata": {},
     "output_type": "display_data"
    },
    {
     "data": {
      "application/vnd.jupyter.widget-view+json": {
       "model_id": "",
       "version_major": 2,
       "version_minor": 0
      },
      "text/plain": [
       "  0%|          | 0/10 [00:00<?, ?it/s]"
      ]
     },
     "metadata": {},
     "output_type": "display_data"
    },
    {
     "data": {
      "application/vnd.jupyter.widget-view+json": {
       "model_id": "",
       "version_major": 2,
       "version_minor": 0
      },
      "text/plain": [
       "0it [00:00, ?it/s]"
      ]
     },
     "metadata": {},
     "output_type": "display_data"
    },
    {
     "data": {
      "application/vnd.jupyter.widget-view+json": {
       "model_id": "",
       "version_major": 2,
       "version_minor": 0
      },
      "text/plain": [
       "  0%|          | 0/10 [00:00<?, ?it/s]"
      ]
     },
     "metadata": {},
     "output_type": "display_data"
    },
    {
     "data": {
      "application/vnd.jupyter.widget-view+json": {
       "model_id": "",
       "version_major": 2,
       "version_minor": 0
      },
      "text/plain": [
       "  0%|          | 0/10 [00:00<?, ?it/s]"
      ]
     },
     "metadata": {},
     "output_type": "display_data"
    },
    {
     "data": {
      "application/vnd.jupyter.widget-view+json": {
       "model_id": "",
       "version_major": 2,
       "version_minor": 0
      },
      "text/plain": [
       "0it [00:00, ?it/s]"
      ]
     },
     "metadata": {},
     "output_type": "display_data"
    },
    {
     "data": {
      "application/vnd.jupyter.widget-view+json": {
       "model_id": "",
       "version_major": 2,
       "version_minor": 0
      },
      "text/plain": [
       "  0%|          | 0/10 [00:00<?, ?it/s]"
      ]
     },
     "metadata": {},
     "output_type": "display_data"
    },
    {
     "data": {
      "application/vnd.jupyter.widget-view+json": {
       "model_id": "",
       "version_major": 2,
       "version_minor": 0
      },
      "text/plain": [
       "  0%|          | 0/10 [00:00<?, ?it/s]"
      ]
     },
     "metadata": {},
     "output_type": "display_data"
    },
    {
     "data": {
      "application/vnd.jupyter.widget-view+json": {
       "model_id": "",
       "version_major": 2,
       "version_minor": 0
      },
      "text/plain": [
       "0it [00:00, ?it/s]"
      ]
     },
     "metadata": {},
     "output_type": "display_data"
    },
    {
     "data": {
      "application/vnd.jupyter.widget-view+json": {
       "model_id": "",
       "version_major": 2,
       "version_minor": 0
      },
      "text/plain": [
       "  0%|          | 0/10 [00:00<?, ?it/s]"
      ]
     },
     "metadata": {},
     "output_type": "display_data"
    },
    {
     "data": {
      "application/vnd.jupyter.widget-view+json": {
       "model_id": "",
       "version_major": 2,
       "version_minor": 0
      },
      "text/plain": [
       "  0%|          | 0/10 [00:00<?, ?it/s]"
      ]
     },
     "metadata": {},
     "output_type": "display_data"
    },
    {
     "data": {
      "application/vnd.jupyter.widget-view+json": {
       "model_id": "",
       "version_major": 2,
       "version_minor": 0
      },
      "text/plain": [
       "0it [00:00, ?it/s]"
      ]
     },
     "metadata": {},
     "output_type": "display_data"
    },
    {
     "data": {
      "application/vnd.jupyter.widget-view+json": {
       "model_id": "",
       "version_major": 2,
       "version_minor": 0
      },
      "text/plain": [
       "  0%|          | 0/10 [00:00<?, ?it/s]"
      ]
     },
     "metadata": {},
     "output_type": "display_data"
    },
    {
     "data": {
      "application/vnd.jupyter.widget-view+json": {
       "model_id": "",
       "version_major": 2,
       "version_minor": 0
      },
      "text/plain": [
       "  0%|          | 0/10 [00:00<?, ?it/s]"
      ]
     },
     "metadata": {},
     "output_type": "display_data"
    }
   ],
   "source": [
    "# This is the main function where we are executing our main function changing the experiment_num param\n",
    "\n",
    "# A short guide for experiment numbers.\n",
    "# 1-4 (Exercise 1) {1 : baseline, 2: augmentation, 3: normalization,4: augmentation + normalization}\n",
    "# 5-8 (Exercise 2) {5: dropout, 6: l1 regularization, 7: L2 regularization, 8: dropout + L2 regularization}\n",
    "# 9-12 (Exercise 3) {9: Adam opt lr=0.0001, 10: Adam opt lr=0.001, 11: Adam opt lr=0.01, 12: Adam opt lr=0.1}\n",
    "# 13-16 (Exercise 3) {13: sgd opt lr= 0.5, 14: sgd opt lr= 0.001, 15: sgd opt lr= 0.01, 16: sgd opt lr= 0.1} [have to change optimizer in execute_exp()] \n",
    "# 17 Batch normalization (Good difference as seen in the report)\n",
    "exp_no = 4\n",
    "logs = 'run/experiment_cifar_exp' + str(exp_no)\n",
    "sum_output = SummaryWriter(logs)\n",
    "\n",
    "c_net = CustomNN()\n",
    "\n",
    "print('Executing experiment : ', str(exp_no))\n",
    "execute_exp(exp_no, sum_output, max_iter = max_iter)"
   ]
  },
  {
   "cell_type": "code",
   "execution_count": 82,
   "id": "651f8e46",
   "metadata": {},
   "outputs": [
    {
     "data": {
      "text/html": [
       "\n",
       "      <iframe id=\"tensorboard-frame-6bee31dcede5472c\" width=\"100%\" height=\"800\" frameborder=\"0\">\n",
       "      </iframe>\n",
       "      <script>\n",
       "        (function() {\n",
       "          const frame = document.getElementById(\"tensorboard-frame-6bee31dcede5472c\");\n",
       "          const url = new URL(\"/\", window.location);\n",
       "          const port = 8112;\n",
       "          if (port) {\n",
       "            url.port = port;\n",
       "          }\n",
       "          frame.src = url;\n",
       "        })();\n",
       "      </script>\n",
       "    "
      ],
      "text/plain": [
       "<IPython.core.display.HTML object>"
      ]
     },
     "metadata": {},
     "output_type": "display_data"
    }
   ],
   "source": [
    "%tensorboard --logdir run/experiment_cifar_exp4 --host localhost --port 8112"
   ]
  },
  {
   "cell_type": "code",
   "execution_count": null,
   "id": "472b9cc2",
   "metadata": {},
   "outputs": [],
   "source": []
  }
 ],
 "metadata": {
  "kernelspec": {
   "display_name": "Python 3",
   "language": "python",
   "name": "python3"
  },
  "language_info": {
   "codemirror_mode": {
    "name": "ipython",
    "version": 3
   },
   "file_extension": ".py",
   "mimetype": "text/x-python",
   "name": "python",
   "nbconvert_exporter": "python",
   "pygments_lexer": "ipython3",
   "version": "3.8.8"
  }
 },
 "nbformat": 4,
 "nbformat_minor": 5
}
